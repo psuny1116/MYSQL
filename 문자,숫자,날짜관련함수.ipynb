{
 "cells": [
  {
   "cell_type": "markdown",
   "metadata": {},
   "source": [
    "# 1. 문자 관련 함수\n",
    "\n",
    "함수|활용 예시|설명\n",
    "-|-|-\n",
    "LOCATE|LOCATE('A', 'ABC')|'ABC'에서 'A'는 몇 번째에 위치해 있는지 검색해 위치 반환. 해당 문자가 여러 개라면 가장 먼저 찾은 문자의 위치를 반환. 찾는 문자가 없으면 0을 반환\n",
    "SUBSTRING|SUBSTRING('ABC', 2)|'ABC'에서 2번째 문자부터 반환. 만약 입력한 숫자가 문자열의 길이보다 크다면 아무것도 반환하지 않음\n",
    "RIGHT|RIGHT('ABC', 1)|'ABC'에서 오른쪽에서 1번째 문자까지 반환\n",
    "LEFT|LEFT('ABC', 1)|'ABC'에서 왼쪽에서 1번째 문자까지 반환\n",
    "UPPER|UPPER('abc')|'abc'를 대문자로 바꿔 반환\n",
    "LOWER|LOWER('ABC')|'ABC'를 소문자로 바꿔 반환\n",
    "LENGTH|LENGTH('ABC')|'ABC'의 글자수를 반환\n",
    "CONCAT|CONCAT('ABC', 'DEF')|'ABC'문자열과 'CDF'문자열을 합쳐 반환\n",
    "REPLACE|REPLACE('ABC', 'A', 'Z')|'ABC'의 'A'를 'Z'로 바꿔 반환"
   ]
  },
  {
   "cell_type": "markdown",
   "metadata": {},
   "source": [
    "# 2. 숫자 관련 함수\n",
    "\n",
    "함수|활용|설명\n",
    "-|-|-\n",
    "ABS|ABS(숫자)|숫자의 절댓값 반환\n",
    "CEILING|CEILING(숫자)|숫자를 정수로 올림해서 반환\n",
    "FLOOR|FLOOR(숫자)|숫자를 정수로 내림해서 반환\n",
    "ROUND|ROUND(숫자, 자릿수)|숫자를 소수점 자릿수까지 반올림해서 반환\n",
    "TRUNCATE|TRUNCATE(숫자, 자릿수)|숫자를 소수점 자릿수까지 버림해서 반환\n",
    "POWER|POWER(숫자A, 숫자B)|숫자A의 숫자B 제곱 반환\n",
    "MOD|MOD(숫자A, 숫자B)|숫자A를 숫자B로 나눈 나머지 반환"
   ]
  },
  {
   "cell_type": "markdown",
   "metadata": {},
   "source": [
    "# 3. 날짜 관련 함수\n",
    "\n",
    "함수|활용|설명\n",
    "-|-|-\n",
    "NOW|NOW()|현재 날짜와 시간 반환\n",
    "CURRENT_DATE|CURRENT_DATE()|현재 날짜 반환\n",
    "CURRENT_TIME|CURRENT_TIME()|현재 시간 반환\n",
    "YEAR|YEAR(날짜)|날짜의 연도 반환\n",
    "MONTH|MONTH(날짜)|날짜의 월 반환\n",
    "MONTHNAME|MONTHNAME(날짜)|날짜의 월을 영어로 반환\n",
    "DAYNAME|DAYNAME(날짜)|날짜의 요일을 영어로 반환\n",
    "DAYOFMONTH|DAYOFMONTH(날짜)|날짜의 일 반환\n",
    "DAYOFWEEK|DAYOFWEEK(날짜)|날짜의 요일을 숫자로 반환\n",
    "WEEK|WEEK(날짜)|날짜가 해당 연도에 몇 번째 주인지 반환\n",
    "HOUR|HOUR(시간)|시간의 시 반환\n",
    "MINUTE|MINUTE(시간)|시간의 분 반환\n",
    "SECOND|SECOND(시간)|시간의 초 반환\n",
    "DATE_FORMAT|DATE_FORMAT(날짜/시간, 형식)|날짜/시간의 형식을 형식으로 바꿔 반환\n",
    "DATEDIFF|DATEDIFF(날짜1, 날짜2)|날짜1과 날짜2의 차이 반환(날짜1 - 날짜2)\n",
    "TIMEDIFF|TIMEDIFF(시간1, 시간2)|시간1과 시간2의 차이 반환(시간1 - 시간2)"
   ]
  }
 ],
 "metadata": {
  "kernelspec": {
   "display_name": "Python 3",
   "language": "python",
   "name": "python3"
  },
  "language_info": {
   "codemirror_mode": {
    "name": "ipython",
    "version": 3
   },
   "file_extension": ".py",
   "mimetype": "text/x-python",
   "name": "python",
   "nbconvert_exporter": "python",
   "pygments_lexer": "ipython3",
   "version": "3.7.6"
  }
 },
 "nbformat": 4,
 "nbformat_minor": 4
}
