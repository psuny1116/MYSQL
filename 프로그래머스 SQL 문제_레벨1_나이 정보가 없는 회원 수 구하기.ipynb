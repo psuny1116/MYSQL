{
 "cells": [
  {
   "cell_type": "markdown",
   "metadata": {},
   "source": [
    "# 나이 정보가 없는 회원 수 구하기_레벨1\n",
    "\n",
    "## 유형: IS NULL\n",
    "\n",
    "### 문제 설명\n",
    "\n",
    "- 다음은 어느 의류 쇼핑몰에 가입한 회원 정보를 담은 USER_INFO 테이블입니다. \n",
    "- USER_INFO 테이블은 아래와 같은 구조로 되어있으며, USER_ID, GENDER, AGE, JOINED는 각각 회원 ID, 성별, 나이, 가입일을 나타냅니다.\n",
    "\n",
    "Column name|\tType|\tNullable\n",
    "-|-|-\n",
    "USER_ID|\tINTEGER|\tFALSE\n",
    "GENDER|\tTINYINT(1)|\tTRUE\n",
    "AGE|INTEGER|\tTRUE\n",
    "JOINED|\tDATE|\tFALSE\n",
    "\n",
    "- GENDER 컬럼은 비어있거나 0 또는 1의 값을 가지며 0인 경우 남자를, 1인 경우는 여자를 나타냅니다.\n",
    "\n",
    "### 문제\n",
    "\n",
    "- USER_INFO 테이블에서 나이 정보가 없는 회원이 몇 명인지 출력하는 SQL문을 작성해주세요. 이때 컬럼명은 USERS로 지정해주세요.\n",
    "\n",
    "### 예시\n",
    "\n",
    "- 예를 들어 USER_INFO 테이블이 다음과 같다면\n",
    "\n",
    "USER_ID|\tGENDER|\tAGE|\tJOINED\n",
    "-|-|-|-\n",
    "1|\t1|\t26|\t2021-06-01\n",
    "2|\tNULL|\tNULL|\t2021-07-25\n",
    "3|\t1|\tNULL|\t2021-07-30\n",
    "4|\t0|\t31|\t2021-08-03\n",
    "\n",
    "- 나이 정보가 없는 회원은 2명 이므로, 다음과 같은 결과가 나와야 합니다.\n",
    "\n",
    "USERS|\n",
    "-|\n",
    "2"
   ]
  },
  {
   "cell_type": "markdown",
   "metadata": {},
   "source": [
    "## 풀이\n",
    "\n",
    "```SQL\n",
    "SELECT COUNT(*) AS USERS\n",
    "FROM USER_INFO\n",
    "WHERE AGE IS NULL\n",
    "```"
   ]
  }
 ],
 "metadata": {
  "kernelspec": {
   "display_name": "Python 3",
   "language": "python",
   "name": "python3"
  },
  "language_info": {
   "codemirror_mode": {
    "name": "ipython",
    "version": 3
   },
   "file_extension": ".py",
   "mimetype": "text/x-python",
   "name": "python",
   "nbconvert_exporter": "python",
   "pygments_lexer": "ipython3",
   "version": "3.7.6"
  }
 },
 "nbformat": 4,
 "nbformat_minor": 4
}
