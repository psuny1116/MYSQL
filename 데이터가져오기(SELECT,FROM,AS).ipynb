{
 "cells": [
  {
   "cell_type": "markdown",
   "metadata": {},
   "source": [
    "# 1. 컬럼을 하나만 선택하는 경우\n",
    "\n",
    "```MYSQL\n",
    "SELECT 컬럼이름\n",
    "FROM 데이터베이스이름.테이블이름;     # USE 데이터베이스이름을 먼저 써주면 여기서 데이터베이스이름.안해도 됨\n",
    "```\n",
    "\n",
    "#### USE 사용하는 경우\n",
    "\n",
    "```MYSQL\n",
    "USE 데이터베이스이름;\n",
    "SELECT 컬럼이름\n",
    "FROM 테이블이름;\n",
    "```\n",
    "\n",
    "# 2. 컬럼을 여러개 선택하는 경우\n",
    "\n",
    "```MYSQL\n",
    "SELECT 컬럼이름, 컬럼이름, ..., 컬럼이름\n",
    "FROM 데이터베이스이름.테이블이름;\n",
    "```\n",
    "\n",
    "# 3. 컬럼 전체를 선택하는 경우\n",
    "\n",
    "```MYSQL\n",
    "SELECT *\n",
    "FROM 데이터베이스이름.테이블이름;\n",
    "```\n",
    "\n",
    "# 4. AS(별명) 사용하는 경우\n",
    "\n",
    "```MYSQL\n",
    "SELECT 컬럼이름 AS 컬럼별명\n",
    "FROM 테이블이름;\n",
    "```\n",
    "\n",
    "# 5. 데이터 일부만 가져오기\n",
    "\n",
    "```MYSQL\n",
    "SELECT 컬럼이름 AS 컬럼별명\n",
    "FROM 테이블이름\n",
    "LIMIT 가져올로우수;\n",
    "```\n",
    "\n",
    "# 6. 중복 제거\n",
    "\n",
    "- DISTINCT: 중복된 데이터는 제외하고 같은 값은 한 번만 가져오는 키워드. 컬럼에 어떤 값들이 있는지 확인하고 싶을 때 사용\n",
    "\n",
    "```MYSQL\n",
    "SELECT DISTINCT 컬럼이름\n",
    "FROM 테이블이름;\n",
    "```"
   ]
  }
 ],
 "metadata": {
  "kernelspec": {
   "display_name": "Python 3",
   "language": "python",
   "name": "python3"
  },
  "language_info": {
   "codemirror_mode": {
    "name": "ipython",
    "version": 3
   },
   "file_extension": ".py",
   "mimetype": "text/x-python",
   "name": "python",
   "nbconvert_exporter": "python",
   "pygments_lexer": "ipython3",
   "version": "3.7.6"
  }
 },
 "nbformat": 4,
 "nbformat_minor": 4
}
