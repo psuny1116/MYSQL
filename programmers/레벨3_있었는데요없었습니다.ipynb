{
 "cells": [
  {
   "cell_type": "markdown",
   "metadata": {},
   "source": [
    "# 있었는데요 없었습니다_레벨3\n",
    "\n",
    "## 유형: JOIN\n",
    "\n",
    "### 문제 설명\n",
    "\n",
    "- ANIMAL_INS 테이블은 동물 보호소에 들어온 동물의 정보를 담은 테이블입니다. \n",
    "- ANIMAL_INS 테이블 구조는 다음과 같으며, ANIMAL_ID, ANIMAL_TYPE, DATETIME, INTAKE_CONDITION, NAME, SEX_UPON_INTAKE는 각각 동물의 아이디, 생물 종, 보호 시작일, 보호 시작 시 상태, 이름, 성별 및 중성화 여부를 나타냅니다.\n",
    "\n",
    "NAME|\tTYPE|\tNULLABLE\n",
    "-|-|-\n",
    "ANIMAL_ID|\tVARCHAR(N)|\tFALSE\n",
    "ANIMAL_TYPE|\tVARCHAR(N)|\tFALSE\n",
    "DATETIME|\tDATETIME|\tFALSE\n",
    "INTAKE_CONDITION|\tVARCHAR(N)|\tFALSE\n",
    "NAME|\tVARCHAR(N)|\tTRUE\n",
    "SEX_UPON_INTAKE|\tVARCHAR(N)|\tFALSE\n",
    "\n",
    "- ANIMAL_OUTS 테이블은 동물 보호소에서 입양 보낸 동물의 정보를 담은 테이블입니다. \n",
    "- ANIMAL_OUTS 테이블 구조는 다음과 같으며, ANIMAL_ID, ANIMAL_TYPE, DATETIME, NAME, SEX_UPON_OUTCOME는 각각 동물의 아이디, 생물 종, 입양일, 이름, 성별 및 중성화 여부를 나타냅니다. \n",
    "- ANIMAL_OUTS 테이블의 ANIMAL_ID는 ANIMAL_INS의 ANIMAL_ID의 외래 키입니다.\n",
    "\n",
    "NAME|\tTYPE|\tNULLABLE\n",
    "-|-|-\n",
    "ANIMAL_ID|\tVARCHAR(N)|\tFALSE\n",
    "ANIMAL_TYPE|\tVARCHAR(N)|\tFALSE\n",
    "DATETIME|\tDATETIME|\tFALSE\n",
    "NAME|\tVARCHAR(N)|\tTRUE\n",
    "SEX_UPON_OUTCOME|\tVARCHAR(N)|\tFALSE\n",
    "\n",
    "- 관리자의 실수로 일부 동물의 입양일이 잘못 입력되었습니다. \n",
    "- 보호 시작일보다 입양일이 더 빠른 동물의 아이디와 이름을 조회하는 SQL문을 작성해주세요. \n",
    "- 이때 결과는 보호 시작일이 빠른 순으로 조회해야합니다.\n",
    "\n",
    "### 예시\n",
    "\n",
    "- 예를 들어, ANIMAL_INS 테이블과 ANIMAL_OUTS 테이블이 다음과 같다면\n",
    "\n",
    "- ANIMAL_INS\n",
    "\n",
    "ANIMAL_ID|\tANIMAL_TYPE|\tDATETIME|\tINTAKE_CONDITION|\tNAME|\tSEX_UPON_INTAKE\n",
    "-|-|-|-|-|-\n",
    "A350276|\tCat|\t2017-08-13 13:50:00|\tNormal|\tJewel|\tSpayed Female\n",
    "A381217|\tDog|\t2017-07-08 09:41:00|\tSick|\tCherokee|\tNeutered Male\n",
    "\n",
    "- ANIMAL_OUTS\n",
    "\n",
    "ANIMAL_ID|\tANIMAL_TYPE|\tDATETIME|\tNAME|\tSEX_UPON_OUTCOME\n",
    "-|-|-|-|-\n",
    "A350276|\tCat|\t2018-01-28 17:51:00|\tJewel|\tSpayed Female\n",
    "A381217|\tDog|\t2017-06-09 18:51:00|\tCherokee|\tNeutered Male\n",
    "\n",
    "- SQL문을 실행하면 다음과 같이 나와야 합니다.\n",
    "\n",
    "ANIMAL_ID|\tNAME\n",
    "-|-\n",
    "A381217|\tCherokee"
   ]
  },
  {
   "cell_type": "markdown",
   "metadata": {},
   "source": [
    "# 풀이\n",
    "\n",
    "```SQL\n",
    "SELECT A.ANIMAL_ID, A.NAME\n",
    "FROM ANIMAL_INS AS A\n",
    "JOIN ANIMAL_OUTS AS B\n",
    "ON A.ANIMAL_ID = B.ANIMAL_ID\n",
    "WHERE A.DATETIME > B.DATETIME\n",
    "ORDER BY A.DATETIME ASC\n",
    "```"
   ]
  }
 ],
 "metadata": {
  "kernelspec": {
   "display_name": "Python 3",
   "language": "python",
   "name": "python3"
  },
  "language_info": {
   "codemirror_mode": {
    "name": "ipython",
    "version": 3
   },
   "file_extension": ".py",
   "mimetype": "text/x-python",
   "name": "python",
   "nbconvert_exporter": "python",
   "pygments_lexer": "ipython3",
   "version": "3.7.6"
  }
 },
 "nbformat": 4,
 "nbformat_minor": 4
}
