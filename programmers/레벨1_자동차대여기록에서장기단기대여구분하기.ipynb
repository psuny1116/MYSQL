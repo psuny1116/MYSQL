{
 "cells": [
  {
   "cell_type": "markdown",
   "metadata": {},
   "source": [
    "# 자동차 대여 기록에서 장기/단기 대여 구분하기_레벨1\n",
    "\n",
    "## 유형 : String, Date\n",
    "\n",
    "### 문제 설명\n",
    "\n",
    "- 다음은 어느 자동차 대여 회사의 자동차 대여 기록 정보를 담은 CAR_RENTAL_COMPANY_RENTAL_HISTORY 테이블입니다.\n",
    "- CAR_RENTAL_COMPANY_RENTAL_HISTORY 테이블은 아래와 같은 구조로 되어있으며, HISTORY_ID, CAR_ID, START_DATE, END_DATE 는 각각 자동차 대여 기록 ID, 자동차 ID, 대여 시작일, 대여 종료일을 나타냅니다.\n",
    "\n",
    "Column name|\tType|\tNullable\n",
    "-|-|-\n",
    "HISTORY_ID|\tINTEGER|\tFALSE\n",
    "CAR_ID|\tINTEGER|\tFALSE\n",
    "START_DATE|\tDATE|\tFALSE\n",
    "END_DATE|\tDATE|\tFALSE\n",
    "\n",
    "### 문제\n",
    "\n",
    "- CAR_RENTAL_COMPANY_RENTAL_HISTORY 테이블에서 대여 시작일이 2022년 9월에 속하는 대여 기록에 대해서 대여 기간이 30일 이상이면 '장기 대여' 그렇지 않으면 '단기 대여' 로 표시하는 컬럼(컬럼명: RENT_TYPE)을 추가하여 대여기록을 출력하는 SQL문을 작성해주세요. 결과는 대여 기록 ID를 기준으로 내림차순 정렬해주세요.\n",
    "\n",
    "### 예시\n",
    "\n",
    "- 예를 들어 CAR_RENTAL_COMPANY_RENTAL_HISTORY 테이블이 다음과 같다면\n",
    "\n",
    "HISTORY_ID|\tCAR_ID|\tSTART_DATE|\tEND_DATE\n",
    "-|-|-|-\n",
    "1|\t4|\t2022-09-27|\t2022-11-27\n",
    "2|\t3|\t2022-10-03|\t2022-11-04\n",
    "3|\t2|\t2022-09-05|\t2022-09-05\n",
    "4|\t1|\t2022-09-01|\t2022-09-30\n",
    "5|\t3|\t2022-09-16|\t2022-10-15\n",
    "\n",
    "- 2022년 9월의 대여 기록 중 '장기 대여' 에 해당하는 기록은 대여 기록 ID가 1, 4인 기록이고, '단기 대여' 에 해당하는 기록은 대여 기록 ID가 3, 5 인 기록이므로 대여 기록 ID를 기준으로 내림차순 정렬하면 다음과 같이 나와야 합니다.\n",
    "\n",
    "HISTORY_ID|\tCAR_ID|\tSTART_DATE|\tEND_DATE|\tRENT_TYPE\n",
    "-|-|-|-|-\n",
    "5|\t3|\t2022-09-16|\t2022-10-13|\t단기 대여\n",
    "4|\t1|\t2022-09-01|\t2022-09-30|\t장기 대여\n",
    "3|\t2|\t2022-09-05|\t2022-09-05|\t단기 대여\n",
    "1|\t4|\t2022-09-27|\t2022-10-26|\t장기 대여\n",
    "\n",
    "### 주의사항\n",
    "\n",
    "- START_DATE와 END_DATE의 경우 예시의 데이트 포맷과 동일해야 정답처리 됩니다."
   ]
  },
  {
   "cell_type": "markdown",
   "metadata": {},
   "source": [
    "# 풀이\n",
    "\n",
    "```MySQL\n",
    "SELECT HISTORY_ID\n",
    "     , CAR_ID\n",
    "     , DATE_FORMAT(START_DATE, '%Y-%m-%d') AS START_DATE\n",
    "     , DATE_FORMAT(END_DATE, '%Y-%m-%d') AS END_DATE\n",
    "     , CASE WHEN DATEDIFF(END_DATE, START_DATE) + 1 >= 30 THEN '장기 대여'\n",
    "            ELSE '단기 대여' END AS RENT_TYPE\n",
    "FROM CAR_RENTAL_COMPANY_RENTAL_HISTORY\n",
    "WHERE START_DATE BETWEEN '2022-09-01 00:00:00' AND '2022-09-30 23:59:59'\n",
    "ORDER BY HISTORY_ID DESC\n",
    "```"
   ]
  },
  {
   "cell_type": "markdown",
   "metadata": {},
   "source": [
    "# DATEDIFF(날짜2, 날짜1)\n",
    "\n",
    "- 날짜2 - 날짜1\n",
    "- 날짜2와 날짜1의 차이를 DAY를 기준으로 반환\n",
    "- 예 : DATEDIFF('2022-08-05', '2022-08-01')의 결과는 4"
   ]
  }
 ],
 "metadata": {
  "kernelspec": {
   "display_name": "Python 3",
   "language": "python",
   "name": "python3"
  },
  "language_info": {
   "codemirror_mode": {
    "name": "ipython",
    "version": 3
   },
   "file_extension": ".py",
   "mimetype": "text/x-python",
   "name": "python",
   "nbconvert_exporter": "python",
   "pygments_lexer": "ipython3",
   "version": "3.7.6"
  }
 },
 "nbformat": 4,
 "nbformat_minor": 4
}
