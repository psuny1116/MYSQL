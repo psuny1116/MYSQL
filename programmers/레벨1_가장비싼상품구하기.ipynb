{
 "cells": [
  {
   "cell_type": "markdown",
   "metadata": {},
   "source": [
    "# 가장 비싼 상품 구하기_레벨1\n",
    "\n",
    "## 유형: SUM, MAX, MIN\n",
    "\n",
    "### 문제 설명\n",
    "\n",
    "- 다음은 어느 의류 쇼핑몰에서 판매 중인 상품들의 정보를 담은 PRODUCT 테이블입니다. \n",
    "- PRODUCT 테이블은 아래와 같은 구조로 되어있으며, PRODUCT_ID, PRODUCT_CODE, PRICE는 각각 상품 ID, 상품코드, 판매가를 나타냅니다.\n",
    "\n",
    "Column name|\tType|\tNullable\n",
    "-|-|-\n",
    "PRODUCT_ID|\tINTEGER|\tFALSE\n",
    "PRODUCT_CODE|\tVARCHAR(8)|\tFALSE\n",
    "PRICE|\tINTEGER|\tFALSE\n",
    "\n",
    "- 상품 별로 중복되지 않는 8자리 상품코드 값을 가지며, 앞 2자리는 카테고리 코드를 의미합니다.\n",
    "\n",
    "### 문제\n",
    "\n",
    "- PRODUCT 테이블에서 판매 중인 상품 중 가장 높은 판매가를 출력하는 SQL문을 작성해주세요. \n",
    "- 이때 컬럼명은 MAX_PRICE로 지정해주세요.\n",
    "\n",
    "### 예시\n",
    "\n",
    "- 예를 들어 PRODUCT 테이블이 다음과 같다면\n",
    "\n",
    "PRODUCT_ID|\tPRODUCT_CODE|\tPRICE\n",
    "-|-|-\n",
    "1|\tA1000001|\t10000\n",
    "2|\tA2000005|\t9000\n",
    "3|\tC1000006|\t22000\n",
    "\n",
    "- 가장 높은 판매가는 22,000 원 이므로, 다음과 같은 결과가 나와야 합니다.\n",
    "\n",
    "MAX_PRICE|\n",
    "-|\n",
    "22000"
   ]
  },
  {
   "cell_type": "markdown",
   "metadata": {},
   "source": [
    "## 풀이\n",
    "\n",
    "```SQL\n",
    "SELECT MAX(PRICE) AS MAX_PRICE\n",
    "FROM PRODUCT\n",
    "```"
   ]
  }
 ],
 "metadata": {
  "kernelspec": {
   "display_name": "Python 3",
   "language": "python",
   "name": "python3"
  },
  "language_info": {
   "codemirror_mode": {
    "name": "ipython",
    "version": 3
   },
   "file_extension": ".py",
   "mimetype": "text/x-python",
   "name": "python",
   "nbconvert_exporter": "python",
   "pygments_lexer": "ipython3",
   "version": "3.7.6"
  }
 },
 "nbformat": 4,
 "nbformat_minor": 4
}
