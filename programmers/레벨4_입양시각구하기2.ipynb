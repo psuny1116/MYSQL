{
 "cells": [
  {
   "cell_type": "markdown",
   "metadata": {},
   "source": [
    "# 입양 시각 구하기(2)_레벨4\n",
    "\n",
    "## 유형: GROUP BY\n",
    "\n",
    "### 문제 설명\n",
    "\n",
    "- ANIMAL_OUTS 테이블은 동물 보호소에서 입양 보낸 동물의 정보를 담은 테이블입니다. \n",
    "- ANIMAL_OUTS 테이블 구조는 다음과 같으며, ANIMAL_ID, ANIMAL_TYPE, DATETIME, NAME, SEX_UPON_OUTCOME는 각각 동물의 아이디, 생물 종, 입양일, 이름, 성별 및 중성화 여부를 나타냅니다.\n",
    "\n",
    "NAME|\tTYPE|\tNULLABLE\n",
    "-|-|-\n",
    "ANIMAL_ID|\tVARCHAR(N)|\tFALSE\n",
    "ANIMAL_TYPE|\tVARCHAR(N)|\tFALSE\n",
    "DATETIME|\tDATETIME|\tFALSE\n",
    "NAME|\tVARCHAR(N)|\tTRUE\n",
    "SEX_UPON_OUTCOME|\tVARCHAR(N)|\tFALSE\n",
    "\n",
    "- 보호소에서는 몇 시에 입양이 가장 활발하게 일어나는지 알아보려 합니다. \n",
    "- 0시부터 23시까지, 각 시간대별로 입양이 몇 건이나 발생했는지 조회하는 SQL문을 작성해주세요. \n",
    "- 이때 결과는 시간대 순으로 정렬해야 합니다.\n",
    "\n",
    "### 예시\n",
    "\n",
    "- SQL문을 실행하면 다음과 같이 나와야 합니다.\n",
    "\n",
    "HOUR|\tCOUNT\n",
    "-|-\n",
    "0|\t0\n",
    "1|\t0\n",
    "2|\t0\n",
    "3|\t0\n",
    "4|\t0\n",
    "5|\t0\n",
    "6|\t0\n",
    "7|\t3\n",
    "8|\t1\n",
    "9|\t1\n",
    "10|\t2\n",
    "11|\t13\n",
    "12|\t10\n",
    "13|\t14\n",
    "14|\t9\n",
    "15|\t7\n",
    "16|\t10\n",
    "17|\t12\n",
    "18|\t16\n",
    "19|\t2\n",
    "20|\t0\n",
    "21|\t0\n",
    "22|\t0\n",
    "23|\t0"
   ]
  },
  {
   "cell_type": "markdown",
   "metadata": {},
   "source": [
    "## 풀이\n",
    "\n",
    "```SQL\n",
    "SET @HOUR = -1;\n",
    "\n",
    "SELECT(@HOUR := @HOUR+1) AS HOUR, (SELECT COUNT(*)\n",
    "                                   FROM ANIMAL_OUTS\n",
    "                                   WHERE HOUR(DATETIME) = @HOUR) AS COUNT\n",
    "FROM ANIMAL_OUTS\n",
    "WHERE @HOUR < 23\n",
    "ORDER BY HOUR ASC\n",
    "```"
   ]
  },
  {
   "cell_type": "markdown",
   "metadata": {},
   "source": [
    "- SET: 변수에 특정 값을 할당할 때 사용\n",
    "- @변수명: 프로시저가 끝나도 계속 유지\n",
    "- SET @변수명을 한 다음에는 ;를 써줘야 함\n",
    "- :=는 =(비교연산자)와 혼동을 피하기 위한 대입 연산자\n",
    "- 이 문제는 이런 식으로 풀지 않으면 0 ~ 6시까지의 데이터가 따로 나오지 않아서 에러가 남\n",
    "- 따라서 SET을 이용해 임의로 시간을 0 ~ 23시까지 만들어서 진행해야 함\n",
    "- @HOUR := @HOUR+1 은 SET명령어에서 @HOUR는 -1로 할당 되었으므로 그 이후에 1씩 더해준다는 뜻.\n",
    "- 따라서 0부터 HOUR가 시작하게 되고 WHERE절에서 @HOUR가 22까지만 되게 했으므로 23까지 HOUR가 존재하게 됨"
   ]
  }
 ],
 "metadata": {
  "kernelspec": {
   "display_name": "Python 3",
   "language": "python",
   "name": "python3"
  },
  "language_info": {
   "codemirror_mode": {
    "name": "ipython",
    "version": 3
   },
   "file_extension": ".py",
   "mimetype": "text/x-python",
   "name": "python",
   "nbconvert_exporter": "python",
   "pygments_lexer": "ipython3",
   "version": "3.7.6"
  }
 },
 "nbformat": 4,
 "nbformat_minor": 4
}
