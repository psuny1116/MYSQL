{
 "cells": [
  {
   "cell_type": "markdown",
   "metadata": {},
   "source": [
    "# 가격이 제일 비싼 식품의 정보 출력하기_레벨2\n",
    "\n",
    "## 유형: SUM, MAX, MIN\n",
    "\n",
    "### 문제 설명\n",
    "\n",
    "- 다음은 식품의 정보를 담은 FOOD_PRODUCT 테이블입니다. \n",
    "- FOOD_PRODUCT 테이블은 다음과 같으며 PRODUCT_ID, PRODUCT_NAME, PRODUCT_CD, CATEGORY, PRICE는 식품 ID, 식품 이름, 식품 코드, 식품분류, 식품 가격을 의미합니다.\n",
    "\n",
    "Column name|\tType|\tNullable\n",
    "-|-|-\n",
    "PRODUCT_ID|\tVARCHAR(10)|\tFALSE\n",
    "PRODUCT_NAME|\tVARCHAR(50)|\tFALSE\n",
    "PRODUCT_CD|\tVARCHAR(10)|\tTRUE\n",
    "CATEGORY|\tVARCHAR(10)|\tTRUE\n",
    "PRICE|\tNUMBER|\tTRUE\n",
    "\n",
    "### 문제\n",
    "\n",
    "- FOOD_PRODUCT 테이블에서 가격이 제일 비싼 식품의 식품 ID, 식품 이름, 식품 코드, 식품분류, 식품 가격을 조회하는 SQL문을 작성해주세요.\n",
    "\n",
    "### 예시\n",
    "\n",
    "- FOOD_PRODUCT 테이블이 다음과 같을 때\n",
    "\n",
    "PRODUCT_ID|\tPRODUCT_NAME|\tPRODUCT_CD|\tCATEGORY|\tPRICE\n",
    "-|-|-|-|-\n",
    "P0018|\t맛있는고추기름|\tCD_OL00008|\t식용유|\t6100\n",
    "P0019|\t맛있는카놀라유|\tCD_OL00009|\t식용유|\t5100\n",
    "P0020|\t맛있는산초유|\tCD_OL00010|\t식용유|\t6500\n",
    "P0021|\t맛있는케첩|\tCD_OL00001|\t소스|\t4500\n",
    "P0022|\t맛있는마요네즈|\tCD_OL00002|\t소스|\t4700\n",
    "\n",
    "- SQL을 실행하면 다음과 같이 출력되어야 합니다.\n",
    "\n",
    "PRODUCT_ID|\tPRODUCT_NAME|\tPRODUCT_CD|\tCATEGORY|\tPRICE\n",
    "-|-|-|-|-\n",
    "P0020|\t맛있는산초유|\tCD_OL00010|\t식용유|\t6500"
   ]
  },
  {
   "cell_type": "markdown",
   "metadata": {},
   "source": [
    "## 풀이\n",
    "\n",
    "```SQL\n",
    "SELECT PRODUCT_ID, PRODUCT_NAME, PRODUCT_CD, CATEGORY, PRICE\n",
    "FROM FOOD_PRODUCT\n",
    "ORDER BY PRICE DESC\n",
    "LIMIT 1\n",
    "```"
   ]
  }
 ],
 "metadata": {
  "kernelspec": {
   "display_name": "Python 3",
   "language": "python",
   "name": "python3"
  },
  "language_info": {
   "codemirror_mode": {
    "name": "ipython",
    "version": 3
   },
   "file_extension": ".py",
   "mimetype": "text/x-python",
   "name": "python",
   "nbconvert_exporter": "python",
   "pygments_lexer": "ipython3",
   "version": "3.7.6"
  }
 },
 "nbformat": 4,
 "nbformat_minor": 4
}
