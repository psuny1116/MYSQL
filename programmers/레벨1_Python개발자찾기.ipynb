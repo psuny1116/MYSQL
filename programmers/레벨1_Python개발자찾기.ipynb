{
 "cells": [
  {
   "cell_type": "markdown",
   "metadata": {},
   "source": [
    "# Python 개발자 찾기_레벨1\n",
    "\n",
    "## 유형 : SELECT\n",
    "\n",
    "### 문제 설명\n",
    "\n",
    "- DEVELOPER_INFOS 테이블은 개발자들의 프로그래밍 스킬 정보를 담은 테이블입니다. DEVELOPER_INFOS 테이블 구조는 다음과 같으며, ID, FIRST_NAME, LAST_NAME, EMAIL, SKILL_1, SKILL_2, SKILL_3는 각각 ID, 이름, 성, 이메일, 첫 번째 스킬, 두 번째 스킬, 세 번째 스킬을 의미합니다.\n",
    "\n",
    "NAME|\tTYPE|\tUNIQUE|\tNULLABLE\n",
    "-|-|-|-\n",
    "ID|\tVARCHAR(N)|\tY|\tN\n",
    "FIRST_NAME|\tVARCHAR(N)|\tN|\tY\n",
    "LAST_NAME|\tVARCHAR(N)|\tN|\tY\n",
    "EMAIL|\tVARCHAR(N)|\tY|\tN\n",
    "SKILL_1|\tVARCHAR(N)|\tN|\tY\n",
    "SKILL_2|\tVARCHAR(N)|\tN|\tY\n",
    "SKILL_3|\tVARCHAR(N)|\tN|\tY\n",
    "\n",
    "### 문제\n",
    "\n",
    "- DEVELOPER_INFOS 테이블에서 Python 스킬을 가진 개발자의 정보를 조회하려 합니다. Python 스킬을 가진 개발자의 ID, 이메일, 이름, 성을 조회하는 SQL 문을 작성해 주세요.\n",
    "\n",
    "- 결과는 ID를 기준으로 오름차순 정렬해 주세요.\n",
    "\n",
    "### 예시\n",
    "\n",
    "- 예를 들어 DEVELOPER_INFOS 테이블이 다음과 같다면\n",
    "\n",
    "ID|\tFIRST_NAME|\tLAST_NAME|\tEMAIL|\tSKILL_1|\tSKILL_2|\tSKILL_3\n",
    "-|-|-|-|-|-|-\n",
    "D165|\tJerami|\tEdwards|\tjerami_edwards@grepp.co|\tJava|\tJavaScript|\tPython\n",
    "D161|\tCarsen|\tGarza|\tcarsen_garza@grepp.co|\tReact| |\t\t\n",
    "D164|\tKelly|\tGrant|\tkelly_grant@grepp.co|\tC#\t| |\t\n",
    "D163|\tLuka|\tCory|\tluka_cory@grepp.co|\tNode.js\t| |\t\n",
    "D162|\tCade|\tCunningham|\tcade_cunningham@grepp.co|\tVue|\tC++|\tPython\n",
    "\n",
    "- 다음과 같이 Python 스킬을 가진 개발자의 정보가 결과에 나와야 합니다.\n",
    "\n",
    "ID|\tEMAIL|\tFIRST_NAME|\tLAST_NAME\n",
    "-|-|-|-\n",
    "D162|\tcade_cunningham@grepp.co|\tCade|\tCunningham\n",
    "D165|\tjerami_edwards@grepp.co|\tJerami|\tEdwards"
   ]
  },
  {
   "cell_type": "markdown",
   "metadata": {},
   "source": [
    "# 풀이\n",
    "\n",
    "```MySQL\n",
    "SELECT ID, EMAIL, FIRST_NAME, LAST_NAME\n",
    "FROM DEVELOPER_INFOS\n",
    "WHERE SKILL_1 = 'Python' OR SKILL_2 = 'Python' OR SKILL_3 = 'Python'\n",
    "ORDER BY ID\n",
    "```"
   ]
  },
  {
   "cell_type": "markdown",
   "metadata": {},
   "source": [
    "# 다른 풀이\n",
    "\n",
    "```MySQL\n",
    "SELECT ID, EMAIL, FIRST_NAME, LAST_NAME\n",
    "FROM DEVELOPER_INFOS\n",
    "WHERE 'Python' IN (SKILL_1, SKILL_2, SKILL_3)\n",
    "ORDER BY ID\n",
    "```"
   ]
  }
 ],
 "metadata": {
  "kernelspec": {
   "display_name": "Python 3",
   "language": "python",
   "name": "python3"
  },
  "language_info": {
   "codemirror_mode": {
    "name": "ipython",
    "version": 3
   },
   "file_extension": ".py",
   "mimetype": "text/x-python",
   "name": "python",
   "nbconvert_exporter": "python",
   "pygments_lexer": "ipython3",
   "version": "3.7.6"
  }
 },
 "nbformat": 4,
 "nbformat_minor": 4
}
