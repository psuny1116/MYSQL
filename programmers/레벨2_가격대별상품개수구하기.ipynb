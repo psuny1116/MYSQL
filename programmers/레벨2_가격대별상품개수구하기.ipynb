{
 "cells": [
  {
   "cell_type": "markdown",
   "metadata": {},
   "source": [
    "# 가격대 별 상품 개수 구하기_레벨2\n",
    "\n",
    "## 유형: GROUP BY\n",
    "\n",
    "### 문제 설명\n",
    "\n",
    "- 다음은 어느 의류 쇼핑몰에서 판매중인 상품들의 정보를 담은 PRODUCT 테이블입니다. \n",
    "- PRODUCT 테이블은 아래와 같은 구조로 되어있으며, PRODUCT_ID, PRODUCT_CODE, PRICE는 각각 상품 ID, 상품코드, 판매가를 나타냅니다.\n",
    "\n",
    "Column name|\tType|\tNullable\n",
    "-|-|-\n",
    "PRODUCT_ID|\tINTEGER|\tFALSE\n",
    "PRODUCT_CODE|\tVARCHAR(8)|\tFALSE\n",
    "PRICE|\tINTEGER|\tFALSE\n",
    "\n",
    "- 상품 별로 중복되지 않는 8자리 상품코드 값을 가지며 앞 2자리는 카테고리 코드를 나타냅니다.\n",
    "\n",
    "### 문제\n",
    "\n",
    "- PRODUCT 테이블에서 만원 단위의 가격대 별로 상품 개수를 출력하는 SQL 문을 작성해주세요. \n",
    "- 이때 컬럼명은 각각 컬럼명은 PRICE_GROUP, PRODUCTS로 지정해주시고 가격대 정보는 각 구간의 최소금액(10,000원 이상 ~ 20,000 미만인 구간인 경우 10,000)으로 표시해주세요. \n",
    "- 결과는 가격대를 기준으로 오름차순 정렬해주세요.\n",
    "\n",
    "### 예시\n",
    "\n",
    "- 예를 들어 PRODUCT 테이블이 다음과 같다면\n",
    "\n",
    "PRODUCT_ID|\tPRODUCT_CODE|\tPRICE\n",
    "-|-|-\n",
    "1|\tA1000011|\t10000\n",
    "2|\tA1000045|\t9000\n",
    "3|\tC3000002|\t22000\n",
    "4|\tC3000006|\t15000\n",
    "5|\tC3000010|\t30000\n",
    "6|\tK1000023|\t17000\n",
    "\n",
    "- 만원 단위의 가격대 별로 상품을 나누면\n",
    "- 가격대가 0원 ~ 1만원 미만인 상품은 PRODUCT_ID 가 2인 상품 1개,\n",
    "- 가격대가 1만원 이상 ~ 2만원 미만인 상품들은 PRODUCT_ID 가 1, 4, 6인 상품 3개,\n",
    "- 가격대가 2만원 이상 ~ 3만원 미만인 상품은 PRODUCT_ID 가 3인 상품 1개,\n",
    "- 가격대가 3만원 이상 ~ 4만원 미만인 상품은 PRODUCT_ID 가 5인 상품 1개,\n",
    "- 에 각각 해당하므로 다음과 같이 결과가 나와야 합니다.\n",
    "\n",
    "PRICE_GROUP|\tPRODUCTS\n",
    "-|-\n",
    "0|\t1\n",
    "10000|\t3\n",
    "20000|\t1\n",
    "30000|\t1"
   ]
  },
  {
   "cell_type": "markdown",
   "metadata": {},
   "source": [
    "## 풀이\n",
    "\n",
    "```SQL\n",
    "SELECT TRUNCATE(PRICE, -4) AS PRICE_GROUP, COUNT(*) AS PRODUCTS     # TRUNCATE(PRICE, -4): PRICE의 뒤 4자리 지우고 0으로 대체\n",
    "FROM PRODUCT                                                        # 예를 들어 PRICE가 25000이었으면 20000가 됨\n",
    "GROUP BY PRICE_GROUP\n",
    "ORDER BY PRICE_GROUP ASC\n",
    "```"
   ]
  },
  {
   "cell_type": "markdown",
   "metadata": {},
   "source": [
    "- TRUNCATE(숫자, 버릴 자릿수) : 숫자를 버릴 자릿수 아래로 버림\n",
    "- 예시 : TRUNCATE(3456.123, -2) = 3400\n",
    "- 예시 : TRUNCATE(3456.123, 2) = 3456.12"
   ]
  },
  {
   "cell_type": "markdown",
   "metadata": {},
   "source": [
    "## 다른 풀이\n",
    "\n",
    "```MySQL\n",
    "SELECT FLOOR(PRICE / 10000) * 10000 AS PRICE_GROUP\n",
    "     , COUNT(PRODUCT_CODE) AS PRODUCTS\n",
    "FROM PRODUCT\n",
    "GROUP BY PRICE_GROUP\n",
    "ORDER BY PRICE_GROUP ASC\n",
    "```"
   ]
  }
 ],
 "metadata": {
  "kernelspec": {
   "display_name": "Python 3",
   "language": "python",
   "name": "python3"
  },
  "language_info": {
   "codemirror_mode": {
    "name": "ipython",
    "version": 3
   },
   "file_extension": ".py",
   "mimetype": "text/x-python",
   "name": "python",
   "nbconvert_exporter": "python",
   "pygments_lexer": "ipython3",
   "version": "3.7.6"
  }
 },
 "nbformat": 4,
 "nbformat_minor": 4
}
