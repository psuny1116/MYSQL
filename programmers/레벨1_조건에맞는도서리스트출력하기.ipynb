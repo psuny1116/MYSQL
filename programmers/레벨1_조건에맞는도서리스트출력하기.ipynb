{
 "cells": [
  {
   "cell_type": "markdown",
   "metadata": {},
   "source": [
    "# 조건에 맞는 도서 리스트 출력하기_레벨1\n",
    "\n",
    "## 유형 : SELECT\n",
    "\n",
    "### 문제 설명\n",
    "\n",
    "- 다음은 어느 한 서점에서 판매중인 도서들의 도서 정보(BOOK) 테이블입니다.\n",
    "- BOOK 테이블은 각 도서의 정보를 담은 테이블로 아래와 같은 구조로 되어있습니다.\n",
    "\n",
    "Column name|\tType|\tNullable|\tDescription\n",
    "-|-|-|-\n",
    "BOOK_ID|\tINTEGER|\tFALSE|\t도서 ID\n",
    "CATEGORY|\tVARCHAR(N)|\tFALSE|\t카테고리 (경제, 인문, 소설, 생활, 기술)\n",
    "AUTHOR_ID|\tINTEGER|\tFALSE|\t저자 ID\n",
    "PRICE|\tINTEGER|\tFALSE|\t판매가 (원)\n",
    "PUBLISHED_DATE|\tDATE|\tFALSE|\t출판일\n",
    "\n",
    "### 문제\n",
    "\n",
    "- BOOK 테이블에서 2021년에 출판된 '인문' 카테고리에 속하는 도서 리스트를 찾아서 도서 ID(BOOK_ID), 출판일 (PUBLISHED_DATE)을 출력하는 SQL문을 작성해주세요.\n",
    "- 결과는 출판일을 기준으로 오름차순 정렬해주세요.\n",
    "\n",
    "### 예시\n",
    "\n",
    "- 예를 들어 BOOK 테이블이 다음과 같다면\n",
    "\n",
    "BOOK_ID|\tCATEGORY|\tAUTHOR_ID|\tPRICE|\tPUBLISHED_DATE\n",
    "-|-|-|-|-\n",
    "1|\t인문|\t1|\t10000|\t2020-01-01\n",
    "2|\t경제|\t2|\t9000|\t2021-02-05\n",
    "3|\t인문|\t2|\t11000|\t2021-04-11\n",
    "4|\t인문|\t3|\t10000|\t2021-03-15\n",
    "5|\t생활|\t1|\t12000|\t2021-01-10\n",
    "\n",
    "- 조건에 속하는 도서는 도서 ID 가 3, 4인 도서이므로 다음과 같습니다.\n",
    "\n",
    "BOOK_ID|\tPUBLISHED_DATE\n",
    "-|-\n",
    "3|\t2021-04-11\n",
    "4|\t2021-03-15\n",
    "\n",
    "- 그리고 출판일 오름차순으로 정렬하여야 하므로 다음과 같은 결과가 나와야 합니다.\n",
    "\n",
    "BOOK_ID|\tPUBLISHED_DATE\n",
    "-|-\n",
    "4|\t2021-03-15\n",
    "3|\t2021-04-11\n",
    "\n",
    "### 주의사항\n",
    "\n",
    "- PUBLISHED_DATE의 데이트 포맷이 예시와 동일해야 정답처리 됩니다."
   ]
  },
  {
   "cell_type": "markdown",
   "metadata": {},
   "source": [
    "## 풀이\n",
    "\n",
    "```MySQL\n",
    "SELECT BOOK_ID\n",
    "     , DATE_FORMAT(PUBLISHED_DATE, '%Y-%m-%d') AS PUBLISHED_DATE\n",
    "FROM BOOK\n",
    "WHERE YEAR(PUBLISHED_DATE) = 2021 \n",
    "  AND CATEGORY = '인문'\n",
    "ORDER BY PUBLISHED_DATE ASC\n",
    "```"
   ]
  },
  {
   "cell_type": "code",
   "execution_count": null,
   "metadata": {},
   "outputs": [],
   "source": []
  }
 ],
 "metadata": {
  "kernelspec": {
   "display_name": "Python 3",
   "language": "python",
   "name": "python3"
  },
  "language_info": {
   "codemirror_mode": {
    "name": "ipython",
    "version": 3
   },
   "file_extension": ".py",
   "mimetype": "text/x-python",
   "name": "python",
   "nbconvert_exporter": "python",
   "pygments_lexer": "ipython3",
   "version": "3.7.6"
  }
 },
 "nbformat": 4,
 "nbformat_minor": 4
}
