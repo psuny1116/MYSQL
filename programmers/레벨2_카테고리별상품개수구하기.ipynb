{
 "cells": [
  {
   "cell_type": "markdown",
   "metadata": {},
   "source": [
    "# 카테고리 별 상품 개수 구하기_레벨2\n",
    "\n",
    "## 유형: STRING, DATE\n",
    "\n",
    "### 문제 설명\n",
    "\n",
    "- 다음은 어느 의류 쇼핑몰에서 판매중인 상품들의 정보를 담은 PRODUCT 테이블입니다. \n",
    "- PRODUCT 테이블은 아래와 같은 구조로 되어있으며, PRODUCT_ID, PRODUCT_CODE, PRICE는 각각 상품 ID, 상품코드, 판매가를 나타냅니다.\n",
    "\n",
    "Column name|\tType|\tNullable\n",
    "-|-|-\n",
    "PRODUCT_ID|\tINTEGER|\tFALSE\n",
    "PRODUCT_CODE|\tVARCHAR(8)|\tFALSE\n",
    "PRICE|\tINTEGER|\tFALSE\n",
    "\n",
    "- 상품 별로 중복되지 않는 8자리 상품코드 값을 가지며, 앞 2자리는 카테고리 코드를 의미합니다.\n",
    "\n",
    "### 문제\n",
    "\n",
    "- PRODUCT 테이블에서 상품 카테고리 코드(PRODUCT_CODE 앞 2자리) 별 상품 개수를 출력하는 SQL문을 작성해주세요. \n",
    "- 결과는 상품 카테고리 코드를 기준으로 오름차순 정렬해주세요.\n",
    "\n",
    "### 예시\n",
    "\n",
    "- 예를 들어 PRODUCT 테이블이 다음과 같다면\n",
    "\n",
    "PRODUCT_ID|\tPRODUCT_CODE|\tPRICE\n",
    "-|-|-\n",
    "1|\tA1000011|\t10000\n",
    "2|\tA1000045|\t9000\n",
    "3|\tC3000002|\t22000\n",
    "4|\tC3000006|\t15000\n",
    "5|\tC3000010|\t30000\n",
    "6|\tK1000023|\t17000\n",
    "\n",
    "- 상품 카테고리 코드 별 상품은 아래와 같으므로,\n",
    "\n",
    "- A1: PRODUCT_ID가 1, 2 인 상품\n",
    "- C3: PRODUCT_ID가 3, 4, 5 인 상품\n",
    "- K1: PRODUCT_ID가 6 인 상품\n",
    "- 다음과 같은 결과가 나와야 합니다.\n",
    "\n",
    "CATEGORY|\tPRODUCTS\n",
    "-|-\n",
    "A1|\t2\n",
    "C3|\t3\n",
    "K1|\t1"
   ]
  },
  {
   "cell_type": "markdown",
   "metadata": {},
   "source": [
    "## 풀이\n",
    "\n",
    "```SQL\n",
    "SELECT LEFT(PRODUCT_CODE, 2) AS CATEGORY, COUNT(*) AS PRODUCTS\n",
    "FROM PRODUCT\n",
    "GROUP BY LEFT(PRODUCT_CODE, 2)\n",
    "ORDER BY CATEGORY ASC\n",
    "```"
   ]
  },
  {
   "cell_type": "markdown",
   "metadata": {},
   "source": [
    "# 다른 풀이\n",
    "\n",
    "```MySQL\n",
    "SELECT SUBSTRING(PRODUCT_CODE, 1, 2) AS CATEGORY\n",
    "     , COUNT(PRODUCT_ID) AS PRODUCTS\n",
    "FROM PRODUCT\n",
    "GROUP BY SUBSTRING(PRODUCT_CODE, 1, 2)\n",
    "ORDER BY CATEGORY ASC\n",
    "```"
   ]
  },
  {
   "cell_type": "markdown",
   "metadata": {},
   "source": [
    "# SUBSTRING(문자열, 시작, 끝)\n",
    "\n",
    "- 문자열을 기준에 따라 나눠줌\n",
    "\n",
    "# LEFT(문자열, 갯수)\n",
    "\n",
    "- 문자열을 왼쪽부터 일정 갯수를 가져옴"
   ]
  }
 ],
 "metadata": {
  "kernelspec": {
   "display_name": "Python 3",
   "language": "python",
   "name": "python3"
  },
  "language_info": {
   "codemirror_mode": {
    "name": "ipython",
    "version": 3
   },
   "file_extension": ".py",
   "mimetype": "text/x-python",
   "name": "python",
   "nbconvert_exporter": "python",
   "pygments_lexer": "ipython3",
   "version": "3.7.6"
  }
 },
 "nbformat": 4,
 "nbformat_minor": 4
}
