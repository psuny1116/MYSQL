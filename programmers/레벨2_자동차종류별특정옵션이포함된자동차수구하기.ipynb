{
 "cells": [
  {
   "cell_type": "markdown",
   "metadata": {},
   "source": [
    "# 자동차 종류별 특정 옵션이 포함된 자동차 수 구하기_레벨2\n",
    "\n",
    "## 유형 : GROUP BY\n",
    "\n",
    "### 문제 설명\n",
    "\n",
    "- 다음은 어느 자동차 대여 회사에서 대여중인 자동차들의 정보를 담은 CAR_RENTAL_COMPANY_CAR 테이블입니다. CAR_RENTAL_COMPANY_CAR 테이블은 아래와 같은 구조로 되어있으며, CAR_ID, CAR_TYPE, DAILY_FEE, OPTIONS 는 각각 자동차 ID, 자동차 종류, 일일 대여 요금(원), 자동차 옵션 리스트를 나타냅니다.\n",
    "\n",
    "Column name|\tType|\tNullable\n",
    "-|-|-\n",
    "CAR_ID|\tINTEGER|\tFALSE\n",
    "CAR_TYPE|\tVARCHAR(255)|\tFALSE\n",
    "DAILY_FEE|\tINTEGER|\tFALSE\n",
    "OPTIONS|\tVARCHAR(255)|\tFALSE\n",
    "\n",
    "- 자동차 종류는 '세단', 'SUV', '승합차', '트럭', '리무진' 이 있습니다. 자동차 옵션 리스트는 콤마(',')로 구분된 키워드 리스트(옵션 리스트 값 예시: '열선시트', '스마트키', '주차감지센서')로 되어있으며, 키워드 종류는 '주차감지센서', '스마트키', '네비게이션', '통풍시트', '열선시트', '후방카메라', '가죽시트' 가 있습니다.\n",
    "\n",
    "### 문제\n",
    "\n",
    "- CAR_RENTAL_COMPANY_CAR 테이블에서 '통풍시트', '열선시트', '가죽시트' 중 하나 이상의 옵션이 포함된 자동차가 자동차 종류 별로 몇 대인지 출력하는 SQL문을 작성해주세요. 이때 자동차 수에 대한 컬럼명은 CARS로 지정하고, 결과는 자동차 종류를 기준으로 오름차순 정렬해주세요.\n",
    "\n",
    "### 예시\n",
    "\n",
    "- 예를 들어 CAR_RENTAL_COMPANY_CAR 테이블이 다음과 같다면\n",
    "\n",
    "CAR_ID|\tCAR_TYPE|\tDAILY_FEE|\tOPTIONS\n",
    "-|-|-|-\n",
    "1|\t세단|\t16000|\t가죽시트,열선시트,후방카메라\n",
    "2|\tSUV|\t14000|\t스마트키,네비게이션,열선시트\n",
    "3|\tSUV|\t22000|\t주차감지센서,후방카메라\n",
    "4|\t트럭|\t35000|\t주차감지센서,네비게이션,열선시트\n",
    "5|\tSUV|\t16000|\t가죽시트,네비게이션,열선시트,후방카메라,주차감지센서\n",
    "\n",
    "- '통풍시트', '열선시트', '가죽시트' 중 하나 이상의 옵션이 포함된 자동차는 자동차 ID가 1, 2, 4, 5인 자동차이고, 자동차 종류 별로 몇 대인지 구하고 자동차 종류를 기준으로 오름차순 정렬하면 다음과 같은 결과가 나와야 합니다.\n",
    "\n",
    "CAR_TYPE|\tCARS\n",
    "-|-\n",
    "SUV|\t2\n",
    "세단|\t1\n",
    "트럭|\t1"
   ]
  },
  {
   "cell_type": "markdown",
   "metadata": {},
   "source": [
    "## 풀이\n",
    "\n",
    "```MySQL\n",
    "SELECT CAR_TYPE\n",
    "     , COUNT(CAR_TYPE) AS CARS\n",
    "FROM CAR_RENTAL_COMPANY_CAR\n",
    "WHERE OPTIONS LIKE '%통풍시트%'\n",
    "   OR OPTIONS LIKE '%열선시트%'\n",
    "   OR OPTIONS LIKE '%가죽시트%'\n",
    "GROUP BY CAR_TYPE\n",
    "ORDER BY CAR_TYPE ASC\n",
    "```"
   ]
  }
 ],
 "metadata": {
  "kernelspec": {
   "display_name": "Python 3",
   "language": "python",
   "name": "python3"
  },
  "language_info": {
   "codemirror_mode": {
    "name": "ipython",
    "version": 3
   },
   "file_extension": ".py",
   "mimetype": "text/x-python",
   "name": "python",
   "nbconvert_exporter": "python",
   "pygments_lexer": "ipython3",
   "version": "3.7.6"
  }
 },
 "nbformat": 4,
 "nbformat_minor": 4
}
