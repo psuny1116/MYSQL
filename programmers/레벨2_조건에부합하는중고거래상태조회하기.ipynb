{
 "cells": [
  {
   "cell_type": "markdown",
   "metadata": {},
   "source": [
    "# 조건에 부합하는 중고거래 상태 조회하기_레벨2\n",
    "\n",
    "## 유형 : String, Date\n",
    "\n",
    "### 문제 설명\n",
    "\n",
    "- 다음은 중고거래 게시판 정보를 담은 USED_GOODS_BOARD 테이블입니다. USED_GOODS_BOARD 테이블은 다음과 같으며 BOARD_ID, WRITER_ID, TITLE, CONTENTS, PRICE, CREATED_DATE, STATUS, VIEWS은 게시글 ID, 작성자 ID, 게시글 제목, 게시글 내용, 가격, 작성일, 거래상태, 조회수를 의미합니다.\n",
    "\n",
    "Column name|\tType|\tNullable\n",
    "-|-|-\n",
    "BOARD_ID|\tVARCHAR(5)|\tFALSE\n",
    "WRITER_ID|\tVARCHAR(50)|\tFALSE\n",
    "TITLE|\tVARCHAR(100)|\tFALSE\n",
    "CONTENTS|\tVARCHAR(1000)|\tFALSE\n",
    "PRICE|\tNUMBER|\tFALSE\n",
    "CREATED_DATE|\tDATE|\tFALSE\n",
    "STATUS|\tVARCHAR(10)|\tFALSE\n",
    "VIEWS|\tNUMBER|\tFALSE\n",
    "\n",
    "### 문제\n",
    "\n",
    "- USED_GOODS_BOARD 테이블에서 2022년 10월 5일에 등록된 중고거래 게시물의 게시글 ID, 작성자 ID, 게시글 제목, 가격, 거래상태를 조회하는 SQL문을 작성해주세요. 거래상태가 SALE 이면 판매중, RESERVED이면 예약중, DONE이면 거래완료 분류하여 출력해주시고, 결과는 게시글 ID를 기준으로 내림차순 정렬해주세요.\n",
    "\n",
    "### 예시\n",
    "\n",
    "- USED_GOODS_BOARD 테이블이 다음과 같을 때\n",
    "\n",
    "BOARD_ID|\tWRITER_ID|\tTITLE|\tCONTENTS|\tPRICE|\tCREATED_DATE|\tSTATUS|\tVIEWS\n",
    "-|-|-|-|-|-|-|-\n",
    "B0007|\ts2s2123|\t커피글라인더|\t새상품처럼 깨끗합니다.|\t7000|\t2022-10-04|\tDONE|\t210\n",
    "B0008|\thong02|\t자전거 판매합니다|\t출퇴근용으로 구매했다가 사용하지 않아서 내놔요|\t40000|\t2022-10-04|\tSALE|\t301\n",
    "B0009|\tyawoong67|\t선반 팝니다|\t6단 선반. 환불 반품 안됩니다.|\t12000|\t2022-10-05|\tDONE|\t202\n",
    "B0010|\tkeel1990|\t철제선반5단|\t철제선반 5단 조립식 팜|\t10000|\t2022-10-05|\tSALE|\t194\n",
    "\n",
    "- SQL을 실행하면 다음과 같이 출력되어야 합니다.\n",
    "\n",
    "BOARD_ID|\tWRITER_ID|\tTITLE|\tPRICE|\tSTATUS\n",
    "-|-|-|-|-\n",
    "B0010|\tkeel1990|\t철제선반5단|\t10000|\t판매중\n",
    "B0009|\tyawoong67|\t선반 팝니다|\t12000|\t거래완료"
   ]
  },
  {
   "cell_type": "markdown",
   "metadata": {},
   "source": [
    "# 풀이\n",
    "\n",
    "```MySQL\n",
    "SELECT BOARD_ID\n",
    "     , WRITER_ID\n",
    "     , TITLE\n",
    "     , PRICE\n",
    "     , CASE WHEN STATUS = 'SALE' THEN '판매중'\n",
    "            WHEN STATUS = 'RESERVED' THEN '예약중'\n",
    "            ELSE '거래완료' END AS STATUS\n",
    "FROM USED_GOODS_BOARD\n",
    "WHERE CREATED_DATE BETWEEN '2022-10-05 00:00:00' AND '2022-10-05 23:59:59'\n",
    "ORDER BY BOARD_ID DESC\n",
    "```"
   ]
  }
 ],
 "metadata": {
  "kernelspec": {
   "display_name": "Python 3",
   "language": "python",
   "name": "python3"
  },
  "language_info": {
   "codemirror_mode": {
    "name": "ipython",
    "version": 3
   },
   "file_extension": ".py",
   "mimetype": "text/x-python",
   "name": "python",
   "nbconvert_exporter": "python",
   "pygments_lexer": "ipython3",
   "version": "3.7.6"
  }
 },
 "nbformat": 4,
 "nbformat_minor": 4
}
