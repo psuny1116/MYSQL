{
 "cells": [
  {
   "cell_type": "markdown",
   "metadata": {},
   "source": [
    "# 평균 일일 대여 요금 구하기_레벨1\n",
    "\n",
    "## 유형 : SELECT\n",
    "\n",
    "### 문제 설명\n",
    "\n",
    "- 다음은 어느 자동차 대여 회사에서 대여중인 자동차들의 정보를 담은 CAR_RENTAL_COMPANY_CAR 테이블입니다. CAR_RENTAL_COMPANY_CAR 테이블은 아래와 같은 구조로 되어있으며, CAR_ID, CAR_TYPE, DAILY_FEE, OPTIONS 는 각각 자동차 ID, 자동차 종류, 일일 대여 요금(원), 자동차 옵션 리스트를 나타냅니다.\n",
    "\n",
    "Column name|\tType|\tNullable\n",
    "-|-|-\n",
    "CAR_ID|\tINTEGER|\tFALSE\n",
    "CAR_TYPE|\tVARCHAR(255)|\tFALSE\n",
    "DAILY_FEE|\tINTEGER|\tFALSE\n",
    "OPTIONS|\tVARCHAR(255)|\tFALSE\n",
    "\n",
    "- 자동차 종류는 '세단', 'SUV', '승합차', '트럭', '리무진' 이 있습니다. 자동차 옵션 리스트는 콤마(',')로 구분된 키워드 리스트(예: '열선시트', '스마트키', '주차감지센서')로 되어있으며, 키워드 종류는 '주차감지센서', '스마트키', '네비게이션', '통풍시트', '열선시트', '후방카메라', '가죽시트' 가 있습니다.\n",
    "\n",
    "### 문제\n",
    "\n",
    "- CAR_RENTAL_COMPANY_CAR 테이블에서 자동차 종류가 'SUV'인 자동차들의 평균 일일 대여 요금을 출력하는 SQL문을 작성해주세요. 이때 평균 일일 대여 요금은 소수 첫 번째 자리에서 반올림하고, 컬럼명은 AVERAGE_FEE 로 지정해주세요.\n",
    "\n",
    "### 예시\n",
    "\n",
    "- 예를 들어 CAR_RENTAL_COMPANY_CAR 테이블이 다음과 같다면\n",
    "\n",
    "CAR_ID|\tCAR_TYPE|\tDAILY_FEE|\tOPTIONS\n",
    "-|-|-|-\n",
    "1|\t세단|\t16000|\t가죽시트,열선시트,후방카메라\n",
    "2|\tSUV|\t14000|\t스마트키,네비게이션,열선시트\n",
    "3|\tSUV|\t22000|\t주차감지센서,후방카메라,가죽시트\n",
    "\n",
    "- 'SUV' 에 해당하는 자동차들의 평균 일일 대여 요금은 18,000 원 이므로, 다음과 같은 결과가 나와야 합니다.\n",
    "\n",
    "AVERAGE_FEE|\n",
    "-|\n",
    "18000|"
   ]
  },
  {
   "cell_type": "markdown",
   "metadata": {},
   "source": [
    "## 풀이\n",
    "\n",
    "```MySQL\n",
    "SELECT ROUND(AVG(DAILY_FEE), 0) AS AVERAGE_FEE\n",
    "FROM CAR_RENTAL_COMPANY_CAR\n",
    "WHERE CAR_TYPE = 'SUV'\n",
    "```"
   ]
  }
 ],
 "metadata": {
  "kernelspec": {
   "display_name": "Python 3",
   "language": "python",
   "name": "python3"
  },
  "language_info": {
   "codemirror_mode": {
    "name": "ipython",
    "version": 3
   },
   "file_extension": ".py",
   "mimetype": "text/x-python",
   "name": "python",
   "nbconvert_exporter": "python",
   "pygments_lexer": "ipython3",
   "version": "3.7.6"
  }
 },
 "nbformat": 4,
 "nbformat_minor": 4
}
