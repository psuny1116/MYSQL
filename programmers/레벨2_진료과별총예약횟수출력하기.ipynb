{
 "cells": [
  {
   "cell_type": "markdown",
   "metadata": {},
   "source": [
    "# 진료과별 총 예약 횟수 출력하기\n",
    "\n",
    "## 유형: GROUP BY\n",
    "\n",
    "### 문제 설명\n",
    "\n",
    "- 다음은 종합병원의 진료 예약정보를 담은 APPOINTMENT 테이블 입니다.\n",
    "- APPOINTMENT 테이블은 다음과 같으며 APNT_YMD, APNT_NO, PT_NO, MCDP_CD, MDDR_ID, APNT_CNCL_YN, APNT_CNCL_YMD는 각각 진료예약일시, 진료예약번호, 환자번호, 진료과코드, 의사ID, 예약취소여부, 예약취소날짜를 나타냅니다.\n",
    "\n",
    "Column name|\tType|\tNullable\n",
    "-|-|-\n",
    "APNT_YMD|\tTIMESTAMP|\tFALSE\n",
    "APNT_NO|\tNUMBER(5)|\tFALSE\n",
    "PT_NO|\tVARCHAR(10)|\tFALSE\n",
    "MCDP_CD|\tVARCHAR(6)|\tFALSE\n",
    "MDDR_ID|\tVARCHAR(10)|\tFALSE\n",
    "APNT_CNCL_YN|\tVARCHAR(1)|\tTRUE\n",
    "APNT_CNCL_YMD|\tDATE|\tTRUE\n",
    "\n",
    "### 문제\n",
    "\n",
    "- APPOINTMENT 테이블에서 2022년 5월에 예약한 환자 수를 진료과코드 별로 조회하는 SQL문을 작성해주세요. \n",
    "- 이때, 컬럼명은 '진료과 코드', '5월예약건수'로 지정해주시고 결과는 진료과별 예약한 환자 수를 기준으로 오름차순 정렬하고, 예약한 환자 수가 같다면 진료과 코드를 기준으로 오름차순 정렬해주세요.\n",
    "\n",
    "### 예시\n",
    "\n",
    "- APPOINTMENT 테이블이 다음과 같을 때\n",
    "\n",
    "APNT_YMD|\tAPNT_NO|\tPT_NO|\tMCDP_CD|\tMDDR_ID|\tAPNT_CNCL_YN|\tAPNT_CNCL_YMD\n",
    "-|-|-|-|-|-|-\n",
    "2022-04-14 09:30:00.000000|\t47|\tPT22000064|\tGS|\tDR20170123|\tN|\tNULL\n",
    "2022-04-15 10:30:00.000000|\t48|\tPT22000065|\tOB|\tDR20100231|\tN|\tNULL\n",
    "2022-05-15 17:30:00.000000|\t49|\tPT22000086|\tOB|\tDR20100231|\tN|\tNULL\n",
    "2022-05-18 10:30:00.000000|\t52|\tPT22000019|\tGS|\tDR20100039|\tN|\tNULL\n",
    "2022-05-19 12:00:00.000000|\t53|\tPT22000020|\tFM|\tDR20010112|\tN|\tNULL\n",
    "2022-05-22 08:30:00.000000|\t54|\tPT22000021|\tGS|\tDR20100039|\tN|\tNULL\n",
    "2022-05-04 10:30:00.000000|\t56|\tPT22000023|\tFM|\tDR20090112|\tN|\tNULL\n",
    "2022-05-14 15:30:00.000000|\t57|\tPT22000074|\tCS|\tDR20200012|\tN|\tNULL\n",
    "2022-05-24 15:30:00.000000|\t58|\tPT22000085|\tCS|\tDR20200012|\tN|\tNULL\n",
    "2022-05-28 10:00:00.000000|\t60|\tPT22000092|\tOS|\tDR20100031|\tN|\tNULL\n",
    "\n",
    "- SQL을 실행하면 다음과 같이 출력되어야 합니다.\n",
    "\n",
    "진료과코드|\t5월예약건수\n",
    "-|-\n",
    "OB|\t1\n",
    "OS|\t1\n",
    "CS|\t2\n",
    "FM|\t2\n",
    "GS|\t2"
   ]
  },
  {
   "cell_type": "markdown",
   "metadata": {},
   "source": [
    "## 풀이\n",
    "\n",
    "```SQL\n",
    "SELECT MCDP_CD AS '진료과코드', COUNT(APNT_NO) AS '5월예약건수'\n",
    "FROM APPOINTMENT\n",
    "WHERE APNT_YMD LIKE '2022-05%'\n",
    "GROUP BY MCDP_CD\n",
    "ORDER BY COUNT(APNT_NO) ASC, MCDP_CD ASC\n",
    "```"
   ]
  }
 ],
 "metadata": {
  "kernelspec": {
   "display_name": "Python 3",
   "language": "python",
   "name": "python3"
  },
  "language_info": {
   "codemirror_mode": {
    "name": "ipython",
    "version": 3
   },
   "file_extension": ".py",
   "mimetype": "text/x-python",
   "name": "python",
   "nbconvert_exporter": "python",
   "pygments_lexer": "ipython3",
   "version": "3.7.6"
  }
 },
 "nbformat": 4,
 "nbformat_minor": 4
}
