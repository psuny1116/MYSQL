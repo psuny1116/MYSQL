{
 "cells": [
  {
   "cell_type": "markdown",
   "metadata": {},
   "source": [
    "# 연도별 평균 미세먼지 농도 조회하기_레벨2\n",
    "\n",
    "## 유형 : String, Date\n",
    "\n",
    "### 문제 설명\n",
    "\n",
    "- AIR_POLLUTION 테이블은 전국의 월별 미세먼지 정보를 담은 테이블입니다. AIR_POLLUTION 테이블의 구조는 다음과 같으며 LOCATION1, LOCATION2, YM, PM_VAL1, PM_VAL2은 각각 지역구분1, 지역구분2, 측정일, 미세먼지 오염도, 초미세먼지 오염도를 의미합니다.\n",
    "\n",
    "Column name|\tType|\tNullable\n",
    "-|-|-\n",
    "LOCATION1|\tVARCHAR|\tFALSE\n",
    "LOCATION2|\tVARCHAR|\tFALSE\n",
    "\n",
    "YM|\tDATE|\tFALSE\n",
    "-|-|-\n",
    "PM_VAL1|\tNUMBER|\tFLASE\n",
    "PM_VAL2|\tNUMBER|\tFLASE\n",
    "\n",
    "### 문제\n",
    "\n",
    "- AIR_POLLUTION 테이블에서 수원 지역의 연도 별 평균 미세먼지 오염도와 평균 초미세먼지 오염도를 조회하는 SQL문을 작성해주세요. 이때, 평균 미세먼지 오염도와 평균 초미세먼지 오염도의 컬럼명은 각각 PM10, PM2.5로 해 주시고, 값은 소수점 두 번째 자리에서 반올림해주세요.\n",
    "- 결과는 연도를 기준으로 오름차순 정렬해주세요.\n",
    "\n",
    "### 예시\n",
    "\n",
    "- AIR_POLLUTION 테이블이 다음과 같을 때\n",
    "\n",
    "LOCATION1|\tLOCATION2|\tYM|\tPM_VAL1|\tPM_VAL2\n",
    "-|-|-|-|-\n",
    "경기도|\t수원|\t2018-01-01|\t48|\t27\n",
    "경기도|\t수원|\t2018-02-01|\t51|\t30\n",
    "경기도|\t수원|\t2018-03-01|\t52|\t21\n",
    "경기도|\t수원|\t2018-04-01|\t52|\t20\n",
    "경기도|\t수원|\t2018-05-01|\t45|\t19\n",
    "경기도|\t수원|\t2018-06-01|\t39|\t17\n",
    "경기도|\t수원|\t2018-07-01|\t27|\t15\n",
    "경기도|\t수원|\t2018-08-01|\t26|\t16\n",
    "경기도|\t수원|\t2018-09-01|\t21|\t12\n",
    "경기도|\t수원|\t2018-10-01|\t31|\t18\n",
    "경기도|\t수원|\t2018-11-01|\t56|\t21\n",
    "경기도|\t수원|\t2018-12-01|\t44|\t27\n",
    "서울시|\t노원|\t2018-11-01|\t25|\t45\n",
    "경기도|\t용인|\t2018-02-01|\t14|\t21\n",
    "\n",
    "- SQL을 실행하면 다음과 같이 출력되어야 합니다.\n",
    "\n",
    "YEAR|\tPM10|\tPM2.5\n",
    "-|-|-\n",
    "2018|\t41|\t20.25"
   ]
  },
  {
   "cell_type": "markdown",
   "metadata": {},
   "source": [
    "# 풀이\n",
    "\n",
    "```MySQL\n",
    "SELECT YEAR(YM) AS YEAR\n",
    "     , ROUND(AVG(PM_VAL1), 2) AS PM10\n",
    "     , ROUND(AVG(PM_VAL2), 2) AS \"PM2.5\" \n",
    "FROM AIR_POLLUTION\n",
    "WHERE LOCATION2 = '수원'\n",
    "GROUP BY YEAR(YM)\n",
    "ORDER BY YEAR ASC\n",
    "```"
   ]
  }
 ],
 "metadata": {
  "kernelspec": {
   "display_name": "Python 3",
   "language": "python",
   "name": "python3"
  },
  "language_info": {
   "codemirror_mode": {
    "name": "ipython",
    "version": 3
   },
   "file_extension": ".py",
   "mimetype": "text/x-python",
   "name": "python",
   "nbconvert_exporter": "python",
   "pygments_lexer": "ipython3",
   "version": "3.7.6"
  }
 },
 "nbformat": 4,
 "nbformat_minor": 4
}
