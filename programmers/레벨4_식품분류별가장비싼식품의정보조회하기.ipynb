{
 "cells": [
  {
   "cell_type": "markdown",
   "metadata": {},
   "source": [
    "# 식품분류별 가장 비싼 식품의 정보 조회하기_레벨4\n",
    "\n",
    "## 유형: GROUP BY\n",
    "\n",
    "### 문제 설명\n",
    "\n",
    "- 다음은 식품의 정보를 담은 FOOD_PRODUCT 테이블입니다. \n",
    "- FOOD_PRODUCT 테이블은 다음과 같으며 PRODUCT_ID, PRODUCT_NAME, PRODUCT_CD, CATEGORY, PRICE는 식품 ID, 식품 이름, 식품코드, 식품분류, 식품 가격을 의미합니다.\n",
    "\n",
    "Column name|\tType|\tNullable\n",
    "-|-|-\n",
    "PRODUCT_ID|\tVARCHAR(10)|\tFALSE\n",
    "PRODUCT_NAME|\tVARCHAR(50)|\tFALSE\n",
    "PRODUCT_CD|\tVARCHAR(10)|\tTRUE\n",
    "CATEGORY|\tVARCHAR(10)|\tTRUE\n",
    "PRICE|\tNUMBER|\tTRUE\n",
    "\n",
    "### 문제\n",
    "\n",
    "- FOOD_PRODUCT 테이블에서 식품분류별로 가격이 제일 비싼 식품의 분류, 가격, 이름을 조회하는 SQL문을 작성해주세요. \n",
    "- 이때 식품분류가 '과자', '국', '김치', '식용유'인 경우만 출력시켜 주시고 결과는 식품 가격을 기준으로 내림차순 정렬해주세요.\n",
    "\n",
    "### 예시\n",
    "\n",
    "- FOOD_PRODUCT 테이블이 다음과 같을 때\n",
    "\n",
    "PRODUCT_ID|\tPRODUCT_NAME|\tPRODUCT_CD|\tCATEGORY|\tPRICE\n",
    "-|-|-|-|-\n",
    "P0018|\t맛있는고추기름|\tCD_OL00008|\t식용유|\t6100\n",
    "P0019|\t맛있는카놀라유|\tCD_OL00009|\t식용유|\t5100\n",
    "P0020|\t맛있는산초유|\tCD_OL00010|\t식용유|\t6500\n",
    "P0021|\t맛있는케첩|\tCD_SC00001|\t소스|\t4500\n",
    "P0022|\t맛있는마요네즈|\tCD_SC00002|\t소스|\t4700\n",
    "P0039|\t맛있는황도|\tCD_CN00008|\t캔|\t4100\n",
    "P0040|\t맛있는명이나물|\tCD_CN00009|\t캔|\t3500\n",
    "P0041|\t맛있는보리차|\tCD_TE00010|\t차|\t3400\n",
    "P0042|\t맛있는메밀차|\tCD_TE00001|\t차|\t3500\n",
    "P0099|\t맛있는맛동산|\tCD_CK00002|\t과자|\t1800\n",
    "\n",
    "- SQL을 실행하면 다음과 같이 출력되어야 합니다.\n",
    "\n",
    "CATEGORY|\tMAX_PRICE|\tPRODUCT_NAME\n",
    "-|-|-\n",
    "식용유|\t6500|\t맛있는산초유\n",
    "과자|\t1800|\t맛있는맛동산"
   ]
  },
  {
   "cell_type": "markdown",
   "metadata": {},
   "source": [
    "## 풀이\n",
    "\n",
    "```SQL\n",
    "SELECT CATEGORY, PRICE AS MAX_PRICE, PRODUCT_NAME\n",
    "FROM FOOD_PRODUCT\n",
    "WHERE PRICE IN (SELECT MAX(PRICE)\n",
    "                FROM FOOD_PRODUCT\n",
    "                GROUP BY CATEGORY)\n",
    "            AND CATEGORY IN ('과자', '국', '김치', '식용유')\n",
    "ORDER BY MAX_PRICE DESC\n",
    "```"
   ]
  }
 ],
 "metadata": {
  "kernelspec": {
   "display_name": "Python 3",
   "language": "python",
   "name": "python3"
  },
  "language_info": {
   "codemirror_mode": {
    "name": "ipython",
    "version": 3
   },
   "file_extension": ".py",
   "mimetype": "text/x-python",
   "name": "python",
   "nbconvert_exporter": "python",
   "pygments_lexer": "ipython3",
   "version": "3.7.6"
  }
 },
 "nbformat": 4,
 "nbformat_minor": 4
}
