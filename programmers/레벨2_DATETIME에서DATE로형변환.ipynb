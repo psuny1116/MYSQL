{
 "cells": [
  {
   "cell_type": "markdown",
   "metadata": {},
   "source": [
    "# DATETIME에서 DATE로 형 변환_레벨2\n",
    "\n",
    "## 유형: STRING, DATE\n",
    "\n",
    "### 문제 설명\n",
    "\n",
    "- ANIMAL_INS 테이블은 동물 보호소에 들어온 동물의 정보를 담은 테이블입니다. \n",
    "- ANIMAL_INS 테이블 구조는 다음과 같으며, ANIMAL_ID, ANIMAL_TYPE, DATETIME, INTAKE_CONDITION, NAME, SEX_UPON_INTAKE는 각각 동물의 아이디, 생물 종, 보호 시작일, 보호 시작 시 상태, 이름, 성별 및 중성화 여부를 나타냅니다.\n",
    "\n",
    "NAME|\tTYPE|\tNULLABLE\n",
    "-|-|-\n",
    "ANIMAL_ID|\tVARCHAR(N)|\tFALSE\n",
    "ANIMAL_TYPE|\tVARCHAR(N)|\tFALSE\n",
    "DATETIME|\tDATETIME|\tFALSE\n",
    "INTAKE_CONDITION|\tVARCHAR(N)|\tFALSE\n",
    "NAME|\tVARCHAR(N)|\tTRUE\n",
    "SEX_UPON_INTAKE|\tVARCHAR(N)|\tFALSE\n",
    "\n",
    "- ANIMAL_INS 테이블에 등록된 모든 레코드에 대해, 각 동물의 아이디와 이름, 들어온 날짜1를 조회하는 SQL문을 작성해주세요. \n",
    "- 이때 결과는 아이디 순으로 조회해야 합니다.\n",
    "\n",
    "### 예시\n",
    "\n",
    "- 예를 들어, ANIMAL_INS 테이블이 다음과 같다면\n",
    "\n",
    "ANIMAL_ID|\tANIMAL_TYPE|\tDATETIME|\tINTAKE_CONDITION|\tNAME|\tSEX_UPON_INTAKE\n",
    "-|-|-|-|-|-\n",
    "A349996|\tCat|\t2018-01-22 14:32:00|\tNormal|\tSugar|\tNeutered Male\n",
    "A350276|\tCat|\t2017-08-13 13:50:00|\tNormal|\tJewel|\tSpayed Female\n",
    "A350375|\tCat|\t2017-03-06 15:01:00|\tNormal|\tMeo|\tNeutered Male\n",
    "A352555|\tDog|\t2014-08-08 04:20:00|\tNormal|\tHarley|\tSpayed Female\n",
    "A352713|\tCat|\t2017-04-13 16:29:00|\tNormal|\tGia|\tSpayed Female\n",
    "\n",
    "- SQL문을 실행하면 다음과 같이 나와야 합니다.\n",
    "\n",
    "ANIMAL_ID|\tNAME|\t날짜\n",
    "-|-|-\n",
    "A349996|\tSugar|\t2018-01-22\n",
    "A350276|\tJewel|\t2017-08-13\n",
    "A350375|\tMeo|\t2017-03-06\n",
    "A352555|\tHarley|\t2014-08-08\n",
    "A352713|\tGia|\t2017-04-13"
   ]
  },
  {
   "cell_type": "markdown",
   "metadata": {},
   "source": [
    "## 풀이\n",
    "\n",
    "```SQL\n",
    "SELECT ANIMAL_ID, NAME, DATE_FORMAT(DATETIME, '%Y-%m-%d') AS 날짜\n",
    "FROM ANIMAL_INS\n",
    "ORDER BY ANIMAL_ID ASC\n",
    "```"
   ]
  }
 ],
 "metadata": {
  "kernelspec": {
   "display_name": "Python 3",
   "language": "python",
   "name": "python3"
  },
  "language_info": {
   "codemirror_mode": {
    "name": "ipython",
    "version": 3
   },
   "file_extension": ".py",
   "mimetype": "text/x-python",
   "name": "python",
   "nbconvert_exporter": "python",
   "pygments_lexer": "ipython3",
   "version": "3.7.6"
  }
 },
 "nbformat": 4,
 "nbformat_minor": 4
}
