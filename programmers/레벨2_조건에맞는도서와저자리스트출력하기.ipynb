{
 "cells": [
  {
   "cell_type": "markdown",
   "metadata": {},
   "source": [
    "# 조건에 맞는 도서와 저자 리스트 출력하기_레벨2\n",
    "\n",
    "## 유형 : JOIN\n",
    "\n",
    "### 문제 설명\n",
    "\n",
    "- 다음은 어느 한 서점에서 판매중인 도서들의 도서 정보(BOOK), 저자 정보(AUTHOR) 테이블입니다.\n",
    "\n",
    "- BOOK 테이블은 각 도서의 정보를 담은 테이블로 아래와 같은 구조로 되어있습니다.\n",
    "\n",
    "Column name|\tType|\tNullable|\tDescription\n",
    "-|-|-|-\n",
    "BOOK_ID|\tINTEGER|\tFALSE|\t도서 ID\n",
    "CATEGORY|\tVARCHAR(N)|\tFALSE|\t카테고리 (경제, 인문, 소설, 생활, 기술)\n",
    "AUTHOR_ID|\tINTEGER|\tFALSE|\t저자 ID\n",
    "PRICE|\tINTEGER|\tFALSE|\t판매가 (원)\n",
    "PUBLISHED_DATE|\tDATE|\tFALSE|\t출판일\n",
    "\n",
    "- AUTHOR 테이블은 도서의 저자의 정보를 담은 테이블로 아래와 같은 구조로 되어있습니다.\n",
    "\n",
    "Column name|\tType|\tNullable|\tDescription\n",
    "-|-|-|-\n",
    "AUTHOR_ID|\tINTEGER|\tFALSE|\t저자 ID\n",
    "AUTHOR_NAME|\tVARCHAR(N)|\tFALSE|\t저자명\n",
    "\n",
    "### 문제\n",
    "\n",
    "- '경제' 카테고리에 속하는 도서들의 도서 ID(BOOK_ID), 저자명(AUTHOR_NAME), 출판일(PUBLISHED_DATE) 리스트를 출력하는 SQL문을 작성해주세요. 결과는 출판일을 기준으로 오름차순 정렬해주세요.\n",
    "\n",
    "### 예시\n",
    "\n",
    "- 예를 들어 BOOK 테이블과 AUTHOR 테이블이 다음과 같다면\n",
    "\n",
    "BOOK_ID|\tCATEGORY|\tAUTHOR_ID|\tPRICE|\tPUBLISHED_DATE\n",
    "-|-|-|-|-\n",
    "1|\t인문|\t1|\t10000|\t2020-01-01\n",
    "2|\t경제|\t1|\t9000|\t2021-04-11\n",
    "3|\t경제|\t2|\t11000|\t2021-02-05\n",
    "\n",
    "AUTHOR_ID|\tAUTHOR_NAME\n",
    "-|-\n",
    "1|\t홍길동\n",
    "2|\t김영호\n",
    "\n",
    "- '경제' 카테고리에 속하는 도서는 도서 ID가 2, 3인 도서이고, 출판일을 기준으로 오름차순으로 정렬하면 다음과 같은 결과가 나와야 합니다.\n",
    "\n",
    "BOOK_ID|\tAUTHOR_NAME|\tPUBLISHED_DATE\n",
    "-|-|-\n",
    "3|\t김영호|\t2021-02-05\n",
    "2|\t홍길동|\t2021-04-11\n",
    "\n",
    "### 주의사항\n",
    "\n",
    "- PUBLISHED_DATE의 데이트 포맷이 예시와 동일해야 정답처리 됩니다."
   ]
  },
  {
   "cell_type": "markdown",
   "metadata": {},
   "source": [
    "# 풀이\n",
    "\n",
    "```MySQL\n",
    "SELECT B.BOOK_ID\n",
    "     , A.AUTHOR_NAME\n",
    "     , DATE_FORMAT(B.PUBLISHED_DATE, '%Y-%m-%d') AS PUBLISHED_DATE\n",
    "FROM BOOK AS B\n",
    "JOIN AUTHOR AS A\n",
    "ON B.AUTHOR_ID = A.AUTHOR_ID\n",
    "WHERE B.CATEGORY = '경제'\n",
    "ORDER BY B.PUBLISHED_DATE\n",
    "```"
   ]
  }
 ],
 "metadata": {
  "kernelspec": {
   "display_name": "Python 3",
   "language": "python",
   "name": "python3"
  },
  "language_info": {
   "codemirror_mode": {
    "name": "ipython",
    "version": 3
   },
   "file_extension": ".py",
   "mimetype": "text/x-python",
   "name": "python",
   "nbconvert_exporter": "python",
   "pygments_lexer": "ipython3",
   "version": "3.7.6"
  }
 },
 "nbformat": 4,
 "nbformat_minor": 4
}
