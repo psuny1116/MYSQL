{
 "cells": [
  {
   "cell_type": "markdown",
   "metadata": {},
   "source": [
    "# 재구매가 일어난 상품과 회원 리스트 구하기_레벨2\n",
    "\n",
    "## 유형: SELECT\n",
    "\n",
    "### 문제 설명\n",
    "\n",
    "- 다음은 어느 의류 쇼핑몰의 온라인 상품 판매 정보를 담은 ONLINE_SALE 테이블 입니다. \n",
    "- ONLINE_SALE 테이블은 아래와 같은 구조로 되어있으며 ONLINE_SALE_ID, USER_ID, PRODUCT_ID, SALES_AMOUNT, SALES_DATE는 각각 온라인 상품 판매 ID, 회원 ID, 상품 ID, 판매량, 판매일을 나타냅니다.\n",
    "\n",
    "Column name|\tType|\tNullable\n",
    "-|-|-\n",
    "ONLINE_SALE_ID|\tINTEGER|\tFALSE\n",
    "USER_ID|\tINTEGER|\tFALSE\n",
    "PRODUCT_ID|\tINTEGER|\tFALSE\n",
    "SALES_AMOUNT|\tINTEGER|\tFALSE\n",
    "SALES_DATE|\tDATE|\tFALSE\n",
    "\n",
    "- 동일한 날짜, 회원 ID, 상품 ID 조합에 대해서는 하나의 판매 데이터만 존재합니다.\n",
    "\n",
    "### 문제\n",
    "\n",
    "- ONLINE_SALE 테이블에서 동일한 회원이 동일한 상품을 재구매한 데이터를 구하여, 재구매한 회원 ID와 재구매한 상품 ID를 출력하는 SQL문을 작성해주세요. \n",
    "- 결과는 회원 ID를 기준으로 오름차순 정렬해주시고 회원 ID가 같다면 상품 ID를 기준으로 내림차순 정렬해주세요.\n",
    "\n",
    "### 예시\n",
    "\n",
    "- 예를 들어 ONLINE_SALE 테이블이 다음과 같다면\n",
    "\n",
    "ONLINE_SALE_ID|\tUSER_ID|\tPRODUCT_ID|\tSALES_AMOUNT|\tSALES_DATE\n",
    "-|-|-|-|-\n",
    "1|\t1|\t3|\t2|\t2022-02-25\n",
    "2|\t1|\t4|\t1|\t2022-03-01\n",
    "4|\t2|\t4|\t2|\t2022-03-12\n",
    "3|\t1|\t3|\t3|\t2022-03-31\n",
    "5|\t3|\t5|\t1|\t2022-04-03\n",
    "6|\t2|\t4|\t1|\t2022-04-06\n",
    "2|\t1|\t4|\t2|\t2022-05-11\n",
    "\n",
    "- USER_ID 가 1인 유저가 PRODUCT_ID 가 3, 4인 상품들을 재구매하고, USER_ID 가 2인 유저가 PRODUCT_ID 가 4인 상품을 재구매 하였으므로, 다음과 같이 결과가 나와야합니다.\n",
    "\n",
    "USER_ID|\tPRODUCT_ID\n",
    "-|-\n",
    "1|\t4\n",
    "1|\t3\n",
    "2|\t4"
   ]
  },
  {
   "cell_type": "markdown",
   "metadata": {},
   "source": [
    "## 풀이\n",
    "\n",
    "```SQL\n",
    "SELECT USER_ID, PRODUCT_ID\n",
    "FROM ONLINE_SALE\n",
    "GROUP BY USER_ID, PRODUCT_ID\n",
    "HAVING COUNT(*) >= 2\n",
    "ORDER BY USER_ID ASC, PRODUCT_ID DESC\n",
    "```"
   ]
  }
 ],
 "metadata": {
  "kernelspec": {
   "display_name": "Python 3",
   "language": "python",
   "name": "python3"
  },
  "language_info": {
   "codemirror_mode": {
    "name": "ipython",
    "version": 3
   },
   "file_extension": ".py",
   "mimetype": "text/x-python",
   "name": "python",
   "nbconvert_exporter": "python",
   "pygments_lexer": "ipython3",
   "version": "3.7.6"
  }
 },
 "nbformat": 4,
 "nbformat_minor": 4
}
