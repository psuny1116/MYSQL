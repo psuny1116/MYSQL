{
 "cells": [
  {
   "cell_type": "markdown",
   "metadata": {},
   "source": [
    "# 대여 기록이 존재하는 자동차 리스트 구하기_레벨3\n",
    "\n",
    "## 유형 : String, Date\n",
    "\n",
    "### 문제 설명\n",
    "\n",
    "- 다음은 어느 자동차 대여 회사에서 대여 중인 자동차들의 정보를 담은 CAR_RENTAL_COMPANY_CAR 테이블과 자동차 대여 기록 정보를 담은 CAR_RENTAL_COMPANY_RENTAL_HISTORY 테이블입니다. CAR_RENTAL_COMPANY_CAR 테이블은 아래와 같은 구조로 되어있으며, CAR_ID, CAR_TYPE, DAILY_FEE, OPTIONS 는 각각 자동차 ID, 자동차 종류, 일일 대여 요금(원), 자동차 옵션 리스트를 나타냅니다.\n",
    "\n",
    "Column name|\tType|\tNullable\n",
    "-|-|-\n",
    "CAR_ID|\tINTEGER|\tFALSE\n",
    "CAR_TYPE|\tVARCHAR(255)|\tFALSE\n",
    "DAILY_FEE|\tINTEGER|\tFALSE\n",
    "OPTIONS|\tVARCHAR(255)|\tFALSE\n",
    "\n",
    "- 자동차 종류는 '세단', 'SUV', '승합차', '트럭', '리무진' 이 있습니다. 자동차 옵션 리스트는 콤마(',')로 구분된 키워드 리스트(예: '열선시트', '스마트키', '주차감지센서')로 되어있으며, 키워드 종류는 '주차감지센서', '스마트키', '네비게이션', '통풍시트', '열선시트', '후방카메라', '가죽시트' 가 있습니다.\n",
    "\n",
    "- CAR_RENTAL_COMPANY_RENTAL_HISTORY 테이블은 아래와 같은 구조로 되어있으며, HISTORY_ID, CAR_ID, START_DATE, END_DATE 는 각각 자동차 대여 기록 ID, 자동차 ID, 대여 시작일, 대여 종료일을 나타냅니다.\n",
    "\n",
    "Column name|\tType|\tNullable\n",
    "-|-|-\n",
    "HISTORY_ID|\tINTEGER|\tFALSE\n",
    "CAR_ID|\tINTEGER|\tFALSE\n",
    "START_DATE|\tDATE|\tFALSE\n",
    "END_DATE|\tDATE|\tFALSE\n",
    "\n",
    "### 문제\n",
    "\n",
    "- CAR_RENTAL_COMPANY_CAR 테이블과 CAR_RENTAL_COMPANY_RENTAL_HISTORY 테이블에서 자동차 종류가 '세단'인 자동차들 중 10월에 대여를 시작한 기록이 있는 자동차 ID 리스트를 출력하는 SQL문을 작성해주세요. 자동차 ID 리스트는 중복이 없어야 하며, 자동차 ID를 기준으로 내림차순 정렬해주세요.\n",
    "\n",
    "### 예시\n",
    "\n",
    "- 예를 들어 CAR_RENTAL_COMPANY_CAR 테이블이 다음과 같고\n",
    "\n",
    "CAR_ID|\tCAR_TYPE|\tDAILY_FEE|\tOPTIONS\n",
    "-|-|-|-\n",
    "1|\t세단|\t16000|\t가죽시트,열선시트,후방카메라\n",
    "2|\tSUV|\t14000|\t스마트키,네비게이션,열선시트\n",
    "3|\t세단|\t22000|\t주차감지센서,후방카메라,가죽시트\n",
    "4|\t세단|\t12000|\t주차감지센서\n",
    "\n",
    "- CAR_RENTAL_COMPANY_RENTAL_HISTORY 테이블이 다음과 같다면\n",
    "\n",
    "HISTORY_ID|\tCAR_ID|\tSTART_DATE|\tEND_DATE\n",
    "-|-|-|-\n",
    "1|\t4|\t2022-09-27|\t2022-09-27\n",
    "2|\t3|\t2022-10-03|\t2022-10-04\n",
    "3|\t2|\t2022-10-05|\t2022-10-05\n",
    "4|\t1|\t2022-10-11|\t2022-10-14\n",
    "5|\t3|\t2022-10-13|\t2022-10-15\n",
    "\n",
    "- 10월에 대여를 시작한 기록이 있는 '세단' 종류의 자동차는 자동차 ID가 1, 3 인 자동차이고, 자동차 ID를 기준으로 내림차순 정렬하면 다음과 같이 나와야 합니다.\n",
    "\n",
    "CAR_ID|\n",
    "-|\n",
    "3|\n",
    "1|"
   ]
  },
  {
   "cell_type": "markdown",
   "metadata": {},
   "source": [
    "# 풀이\n",
    "\n",
    "```MySQL\n",
    "SELECT DISTINCT C.CAR_ID\n",
    "FROM CAR_RENTAL_COMPANY_CAR AS C\n",
    "JOIN CAR_RENTAL_COMPANY_RENTAL_HISTORY AS R\n",
    "ON C.CAR_ID = R.CAR_ID\n",
    "WHERE C.CAR_TYPE = '세단'\n",
    "  AND MONTH(START_DATE) = 10\n",
    "ORDER BY C.CAR_ID DESC\n",
    "```"
   ]
  }
 ],
 "metadata": {
  "kernelspec": {
   "display_name": "Python 3",
   "language": "python",
   "name": "python3"
  },
  "language_info": {
   "codemirror_mode": {
    "name": "ipython",
    "version": 3
   },
   "file_extension": ".py",
   "mimetype": "text/x-python",
   "name": "python",
   "nbconvert_exporter": "python",
   "pygments_lexer": "ipython3",
   "version": "3.7.6"
  }
 },
 "nbformat": 4,
 "nbformat_minor": 4
}
