{
 "cells": [
  {
   "cell_type": "markdown",
   "metadata": {},
   "source": [
    "# 조건에 맞는 아이템들의 가격의 총합 구하기_레벨2\n",
    "\n",
    "## 유형 : SUM, MAX, MIN\n",
    "\n",
    "### 문제 설명\n",
    "\n",
    "- 다음은 어느 한 게임에서 사용되는 아이템들의 아이템 정보를 담은 ITEM_INFO 테이블입니다. ITEM_INFO 테이블은 다음과 같으며, ITEM_ID, ITEM_NAME, RARITY, PRICE는 각각 아이템 ID, 아이템 명, 아이템의 희귀도, 아이템의 가격을 나타냅니다.\n",
    "\n",
    "Column name|\tType|\tNullable\n",
    "-|-|-\n",
    "ITEM_ID|\tINTEGER|\tFALSE\n",
    "ITEM_NAME|\tVARCHAR(N)|\tFALSE\n",
    "RARITY|\tINTEGER|\tFALSE\n",
    "PRICE|\tINTEGER|\tFALSE\n",
    "\n",
    "### 문제\n",
    "\n",
    "- ITEM_INFO 테이블에서 희귀도가 'LEGEND'인 아이템들의 가격의 총합을 구하는 SQL문을 작성해 주세요. 이때 컬럼명은 'TOTAL_PRICE'로 지정해 주세요.\n",
    "\n",
    "### 예시\n",
    "\n",
    "- 예를 들어 ITEM_INFO 테이블이 다음과 같다면\n",
    "\n",
    "ITEM_ID|\tITEM_NAME|\tRARITY|\tPRICE\n",
    "-|-|-|-\n",
    "0|\tITEM_A|\tCOMMON|\t10000\n",
    "1|\tITEM_B|\tLEGEND|\t9000\n",
    "2|\tITEM_C|\tLEGEND|\t11000\n",
    "3|\tITEM_D|\tUNIQUE|\t10000\n",
    "4|\tITEM_E|\tLEGEND|\t12000\n",
    "\n",
    "- 조건에 해당되는 아이템의 아이템 ID는 1, 2, 4이며 각 아이템들의 가격은 9000, 11000, 12000 이므로 조건에 해당되는 아이템들의 가격의 합은 다음과 같습니다.\n",
    "\n",
    "TOTAL_PRICE|\n",
    "-|\n",
    "32000|"
   ]
  },
  {
   "cell_type": "markdown",
   "metadata": {},
   "source": [
    "# 풀이\n",
    "\n",
    "```MySQL\n",
    "SELECT SUM(PRICE) AS TOTAL_PRICE\n",
    "FROM ITEM_INFO\n",
    "WHERE RARITY = 'LEGEND'\n",
    "```"
   ]
  }
 ],
 "metadata": {
  "kernelspec": {
   "display_name": "Python 3",
   "language": "python",
   "name": "python3"
  },
  "language_info": {
   "codemirror_mode": {
    "name": "ipython",
    "version": 3
   },
   "file_extension": ".py",
   "mimetype": "text/x-python",
   "name": "python",
   "nbconvert_exporter": "python",
   "pygments_lexer": "ipython3",
   "version": "3.7.6"
  }
 },
 "nbformat": 4,
 "nbformat_minor": 4
}
