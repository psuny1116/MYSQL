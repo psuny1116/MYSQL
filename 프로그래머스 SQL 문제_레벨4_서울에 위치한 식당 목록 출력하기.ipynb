{
 "cells": [
  {
   "cell_type": "markdown",
   "metadata": {},
   "source": [
    "# 서울에 위치한 식당 목록 출력하기_레벨4\n",
    "\n",
    "## 유형: SELECT\n",
    "\n",
    "### 문제 설명\n",
    "\n",
    "- 다음은 식당의 정보를 담은 REST_INFO 테이블과 식당의 리뷰 정보를 담은 REST_REVIEW 테이블입니다. \n",
    "- REST_INFO 테이블은 다음과 같으며 REST_ID, REST_NAME, FOOD_TYPE, VIEWS, FAVORITES, PARKING_LOT, ADDRESS, TEL은 식당 ID, 식당 이름, 음식 종류, 조회수, 즐겨찾기수, 주차장 유무, 주소, 전화번호를 의미합니다.\n",
    "\n",
    "Column name|\tType|\tNullable\n",
    "-|-|-\n",
    "REST_ID|\tVARCHAR(5)|\tFALSE\n",
    "REST_NAME|\tVARCHAR(50)|\tFALSE\n",
    "FOOD_TYPE|\tVARCHAR(20)|\tTRUE\n",
    "VIEWS|\tNUMBER|\tTRUE\n",
    "FAVORITES|\tNUMBER|\tTRUE\n",
    "PARKING_LOT|\tVARCHAR(1)|\tTRUE\n",
    "ADDRESS|\tVARCHAR(100)|\tTRUE\n",
    "TEL|\tVARCHAR(100)|\tTRUE\n",
    "\n",
    "- REST_REVIEW 테이블은 다음과 같으며 REVIEW_ID, REST_ID, MEMBER_ID, REVIEW_SCORE, REVIEW_TEXT,REVIEW_DATE는 각각 리뷰 ID, 식당 ID, 회원 ID, 점수, 리뷰 텍스트, 리뷰 작성일을 의미합니다.\n",
    "\n",
    "Column name|\tType|\tNullable\n",
    "-|-|-\n",
    "REVIEW_ID|\tVARCHAR(10)|\tFALSE\n",
    "REST_ID|\tVARCHAR(10)|\tTRUE\n",
    "MEMBER_ID|\tVARCHAR(100)|\tTRUE\n",
    "REVIEW_SCORE|\tNUMBER|\tTRUE\n",
    "REVIEW_TEXT|\tVARCHAR(1000)|\tTRUE\n",
    "REVIEW_DATE|\tDATE|\tTRUE\n",
    "\n",
    "### 문제\n",
    "\n",
    "- REST_INFO와 REST_REVIEW 테이블에서 서울에 위치한 식당들의 식당 ID, 식당 이름, 음식 종류, 즐겨찾기수, 주소, 리뷰 평균 점수를 조회하는 SQL문을 작성해주세요. \n",
    "- 이때 리뷰 평균점수는 소수점 세 번째 자리에서 반올림 해주시고 결과는 평균점수를 기준으로 내림차순 정렬해주시고, 평균점수가 같다면 즐겨찾기수를 기준으로 내림차순 정렬해주세요.\n",
    "\n",
    "### 예시\n",
    "\n",
    "- REST_INFO 테이블이 다음과 같고\n",
    "\n",
    "REST_ID|\tREST_NAME|\tFOOD_TYPE|\tVIEWS|\tFAVORITES|\tPARKING_LOT|\tADDRESS|\tTEL\n",
    "-|-|-|-|-|-|-|-\n",
    "00028|\t대우부대찌개|\t한식|\t52310|\t10|\tN|\t경기도 용인시 처인구 남사읍 처인성로 309|\t031-235-1235\n",
    "00039|\t광주식당|\t한식|\t23001|\t20|\tN|\t경기도 부천시 산업로8번길 60|\t031-235-6423\n",
    "00035|\t삼촌식당|\t일식|\t532123|\t80|\tN|\t서울특별시 강서구 가로공원로76가길|\t02-135-1266\n",
    "\n",
    "- REST_REVIEW 테이블이 다음과 같을 때\n",
    "\n",
    "REVIEW_ID|\tREST_ID|\tMEMBER_ID|\tREVIEW_SCORE|\tREVIEW_TEXT|\tREVIEW_DATE\n",
    "-|-|-|-|-|-\n",
    "R000000065|\t00028|\tsoobin97@naver.com|\t5|\t부찌 국물에서 샤브샤브 맛이나고 깔끔|\t2022-04-12\n",
    "R000000066| 00039|\tyelin1130@gmail.com|\t5|\t김치찌개 최곱니다.|\t2022-02-12\n",
    "R000000067|\t00028|\tyelin1130@gmail.com|\t5|\t햄이 많아서 좋아요|\t2022-02-22\n",
    "R000000068|\t00035|\tksyi0316@gmail.com|\t5|\t숙성회가 끝내줍니다.|\t2022-02-15\n",
    "R000000069|\t00035|\tyoonsy95@naver.com|\t4|\t비린내가 전혀없어요.|\t2022-04-16\n",
    "\n",
    "- SQL을 실행하면 다음과 같이 출력되어야 합니다.\n",
    "\n",
    "REST_ID|\tREST_NAME|\tFOOD_TYPE|\tFAVORITES|\tADDRESS|\tSCORE\n",
    "-|-|-|-|-|-\n",
    "00035|\t삼촌식당|\t일식|\t80|\t서울특별시 강서구 가로공원로76가길|\t4.50"
   ]
  },
  {
   "cell_type": "markdown",
   "metadata": {},
   "source": [
    "## 풀이\n",
    "\n",
    "```SQL\n",
    "SELECT A.REST_ID, A.REST_NAME, A.FOOD_TYPE, A.FAVORITES, A.ADDRESS, ROUND(AVG(B.REVIEW_SCORE), 2) AS SCORE\n",
    "FROM REST_INFO A\n",
    "JOIN REST_REVIEW B\n",
    "ON A.REST_ID = B.REST_ID\n",
    "WHERE A.ADDRESS LIKE '서울%'\n",
    "GROUP BY A.REST_ID\n",
    "ORDER BY SCORE DESC, A.FAVORITES DESC\n",
    "```"
   ]
  }
 ],
 "metadata": {
  "kernelspec": {
   "display_name": "Python 3",
   "language": "python",
   "name": "python3"
  },
  "language_info": {
   "codemirror_mode": {
    "name": "ipython",
    "version": 3
   },
   "file_extension": ".py",
   "mimetype": "text/x-python",
   "name": "python",
   "nbconvert_exporter": "python",
   "pygments_lexer": "ipython3",
   "version": "3.7.6"
  }
 },
 "nbformat": 4,
 "nbformat_minor": 4
}
