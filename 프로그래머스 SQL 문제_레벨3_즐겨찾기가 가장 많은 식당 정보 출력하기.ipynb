{
 "cells": [
  {
   "cell_type": "markdown",
   "metadata": {},
   "source": [
    "# 즐겨찾기가 가장 많은 식당 정보 출력하기_레벨3\n",
    "\n",
    "## 유형: GROUP BY\n",
    "\n",
    "### 문제 설명\n",
    "\n",
    "- 다음은 식당의 정보를 담은 REST_INFO 테이블입니다. \n",
    "- REST_INFO 테이블은 다음과 같으며 REST_ID, REST_NAME, FOOD_TYPE, VIEWS, FAVORITES, PARKING_LOT, ADDRESS, TEL은 식당 ID, 식당 이름, 음식 종류, 조회수, 즐겨찾기수, 주차장 유무, 주소, 전화번호를 의미합니다.\n",
    "\n",
    "Column name|\tType|\tNullable\n",
    "-|-|-\n",
    "REST_ID|\tVARCHAR(5)|\tFALSE\n",
    "REST_NAME|\tVARCHAR(50)|\tFALSE\n",
    "FOOD_TYPE|\tVARCHAR(20)|\tTRUE\n",
    "VIEWS|\tNUMBER|\tTRUE\n",
    "FAVORITES|\tNUMBER|\tTRUE\n",
    "PARKING_LOT|\tVARCHAR(1)|\tTRUE\n",
    "ADDRESS|\tVARCHAR(100)|\tTRUE\n",
    "TEL|\tVARCHAR(100)|\tTRUE\n",
    "\n",
    "### 문제\n",
    "\n",
    "- REST_INFO 테이블에서 음식종류별로 즐겨찾기수가 가장 많은 식당의 음식 종류, ID, 식당 이름, 즐겨찾기수를 조회하는 SQL문을 작성해주세요. \n",
    "- 이때 결과는 음식 종류를 기준으로 내림차순 정렬해주세요.\n",
    "\n",
    "### 예시\n",
    "\n",
    "- REST_INFO 테이블이 다음과 같을 때\n",
    "\n",
    "REST_ID|\tREST_NAME|\tFOOD_TYPE|\tVIEWS|\tFAVORITES|\tPARKING_LOT|\tADDRESS|\tTEL\n",
    "-|-|-|-|-|-|-|-\n",
    "00001|\t은돼지식당|\t한식|\t1150345|\t734|\tN|\t서울특별시 중구 다산로 149|\t010-4484-8751\n",
    "00002|\t하이가쯔네|\t일식|\t120034|\t112|\tN|\t서울시 중구 신당동 375-21|\tNULL\n",
    "00003|\t따띠따띠뜨|\t양식|\t1234023|\t102|\tN|\t서울시 강남구 신사동 627-3 1F|\t02-6397-1023\n",
    "00004|\t스시사카우스|\t일식|\t1522074|\t230|\tN|\t서울시 서울시 강남구 신사동 627-27|\t010-9394-2554\n",
    "00005|\t코슌스|\t일식|\t15301|\t123|\tN|\t서울특별시 강남구 언주로153길|\t010-1315-8729\n",
    "\n",
    "- SQL을 실행하면 다음과 같이 출력되어야 합니다.\n",
    "\n",
    "FOOD_TYPE|\tREST_ID|\tREST_NAME|\tFAVORITES\n",
    "-|-|-|-\n",
    "한식|\t00001|\t은돼지식당|\t734\n",
    "일식|\t00004|\t스시사카우스|\t230\n",
    "양식|\t00003|\t따띠따띠뜨|\t102"
   ]
  },
  {
   "cell_type": "markdown",
   "metadata": {},
   "source": [
    "## 풀이\n",
    "\n",
    "```SQL\n",
    "SELECT FOOD_TYPE, REST_ID, REST_NAME, FAVORITES\n",
    "FROM REST_INFO\n",
    "WHERE (FOOD_TYPE, FAVORITES) IN (SELECT FOOD_TYPE, MAX(FAVORITES)\n",
    "                                 FROM REST_INFO\n",
    "                                 GROUP BY FOOD_TYPE)\n",
    "ORDER BY FOOD_TYPE DESC\n",
    "```"
   ]
  }
 ],
 "metadata": {
  "kernelspec": {
   "display_name": "Python 3",
   "language": "python",
   "name": "python3"
  },
  "language_info": {
   "codemirror_mode": {
    "name": "ipython",
    "version": 3
   },
   "file_extension": ".py",
   "mimetype": "text/x-python",
   "name": "python",
   "nbconvert_exporter": "python",
   "pygments_lexer": "ipython3",
   "version": "3.7.6"
  }
 },
 "nbformat": 4,
 "nbformat_minor": 4
}
