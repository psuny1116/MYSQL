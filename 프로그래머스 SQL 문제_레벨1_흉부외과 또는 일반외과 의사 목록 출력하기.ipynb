{
 "cells": [
  {
   "cell_type": "markdown",
   "metadata": {},
   "source": [
    "# 흉부외과 또는 일반외과 의사 목록 출력하기_레벨1\n",
    "\n",
    "## 유형: SELECT\n",
    "\n",
    "### 문제 설명\n",
    "\n",
    "- 다음은 종합병원에 속한 의사 정보를 담은DOCTOR 테이블입니다. \n",
    "- DOCTOR 테이블은 다음과 같으며 DR_NAME, DR_ID, LCNS_NO, HIRE_YMD, MCDP_CD, TLNO는 각각 의사이름, 의사ID, 면허번호, 고용일자, 진료과코드, 전화번호를 나타냅니다.\n",
    "\n",
    "Column name|\tType|\tNullable\n",
    "-|-|-\n",
    "DR_NAME|\tVARCHAR(20)|\tFALSE\n",
    "DR_ID|\tVARCHAR(10)|\tFALSE\n",
    "LCNS_NO|\tVARCHAR(30)|\tFALSE\n",
    "HIRE_YMD|\tDATE|\tFALSE\n",
    "MCDP_CD|\tVARCHAR(6)|\tTRUE\n",
    "TLNO|\tVARCHAR(50)|\tTRUE\n",
    "\n",
    "### 문제\n",
    "\n",
    "- DOCTOR 테이블에서 진료과가 흉부외과(CS)이거나 일반외과(GS)인 의사의 이름, 의사ID, 진료과, 고용일자를 조회하는 SQL문을 작성해주세요. \n",
    "- 이때 결과는 고용일자를 기준으로 내림차순 정렬하고, 고용일자가 같다면 이름을 기준으로 오름차순 정렬해주세요.\n",
    "\n",
    "### 예시\n",
    "\n",
    "- DOCTOR 테이블이 다음과 같을 때\n",
    "\n",
    "DR_NAME|\tDR_ID|\tLCNS_NO|\tHIRE_YMD|\tMCDP_CD|\tTLNO\n",
    "-|-|-|-|-|-\n",
    "루피|\tDR20090029|\tLC00010001|\t2009-03-01|\tCS|\t01085482011\n",
    "패티|\tDR20090001|\tLC00010901|\t2009-07-01|\tCS|\t01085220122\n",
    "뽀로로|\tDR20170123|\tLC00091201|\t2017-03-01|\tGS|\t01034969210\n",
    "티거|\tDR20100011|\tLC00011201|\t2010-03-01|\tNP|\t01034229818\n",
    "품바|\tDR20090231|\tLC00011302|\t2015-11-01|\tOS|\t01049840278\n",
    "티몬|\tDR20090112|\tLC00011162|\t2010-03-01|\tFM|\t01094622190\n",
    "니모|\tDR20200012|\tLC00911162|\t2020-03-01|\tCS|\t01089483921\n",
    "오로라|\tDR20100031|\tLC00010327|\t2010-11-01|\tOS|\t01098428957\n",
    "자스민|\tDR20100032|\tLC00010192|\t2010-03-01|\tGS|\t01023981922\n",
    "벨|\tDR20100039|\tLC00010562|\t2010-07-01|\tGS|\t01058390758\n",
    "\n",
    "- SQL을 실행하면 다음과 같이 출력되어야 합니다.\n",
    "\n",
    "DR_NAME|\tDR_ID|\tMCDP_CD|\tHIRE_YMD\n",
    "-|-|-|-\n",
    "니모|\tDR20200012|\tCS|\t2020-03-01\n",
    "뽀로로|\tDR20170123|\tGS|\t2017-03-01\n",
    "벨|\tDR20100039|\tGS|\t2010-07-01\n",
    "자스민|\tDR20100032|\tGS|\t2010-03-01\n",
    "패티|\tDR20090001|\tCS|\t2009-07-01\n",
    "루피|\tDR20090029|\tCS|\t2009-03-01\n",
    "\n",
    "### 주의사항\n",
    "\n",
    "- 날짜 포맷은 예시와 동일하게 나와야합니다."
   ]
  },
  {
   "cell_type": "markdown",
   "metadata": {},
   "source": [
    "## 풀이\n",
    "\n",
    "```SQL\n",
    "SELECT DR_NAME, DR_ID, MCDP_CD, DATE_FORMAT(HIRE_YMD, '%Y-%m-%d') AS HIRE_YMD\n",
    "FROM DOCTOR\n",
    "WHERE MCDP_CD IN ('CS', 'GS')\n",
    "ORDER BY HIRE_YMD DESC, DR_NAME ASC\n",
    "```"
   ]
  }
 ],
 "metadata": {
  "kernelspec": {
   "display_name": "Python 3",
   "language": "python",
   "name": "python3"
  },
  "language_info": {
   "codemirror_mode": {
    "name": "ipython",
    "version": 3
   },
   "file_extension": ".py",
   "mimetype": "text/x-python",
   "name": "python",
   "nbconvert_exporter": "python",
   "pygments_lexer": "ipython3",
   "version": "3.7.6"
  }
 },
 "nbformat": 4,
 "nbformat_minor": 4
}
