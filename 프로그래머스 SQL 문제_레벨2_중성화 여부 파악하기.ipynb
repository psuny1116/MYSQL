{
 "cells": [
  {
   "cell_type": "markdown",
   "metadata": {},
   "source": [
    "# 중성화 여부 파악하기_레벨2\n",
    "\n",
    "## 유형: STRING, DATE\n",
    "\n",
    "### 문제 설명\n",
    "\n",
    "- ANIMAL_INS 테이블은 동물 보호소에 들어온 동물의 정보를 담은 테이블입니다. \n",
    "- ANIMAL_INS 테이블 구조는 다음과 같으며, ANIMAL_ID, ANIMAL_TYPE, DATETIME, INTAKE_CONDITION, NAME, SEX_UPON_INTAKE는 각각 동물의 아이디, 생물 종, 보호 시작일, 보호 시작 시 상태, 이름, 성별 및 중성화 여부를 나타냅니다.\n",
    "\n",
    "NAME|\tTYPE|\tNULLABLE\n",
    "-|-|-\n",
    "ANIMAL_ID|\tVARCHAR(N)|\tFALSE\n",
    "ANIMAL_TYPE|\tVARCHAR(N)|\tFALSE\n",
    "DATETIME|\tDATETIME|\tFALSE\n",
    "INTAKE_CONDITION|\tVARCHAR(N)|\tFALSE\n",
    "NAME|\tVARCHAR(N)|\tTRUE\n",
    "SEX_UPON_INTAKE|\tVARCHAR(N)|\tFALSE\n",
    "\n",
    "- 보호소의 동물이 중성화되었는지 아닌지 파악하려 합니다. \n",
    "- 중성화된 동물은 SEX_UPON_INTAKE 컬럼에 'Neutered' 또는 'Spayed'라는 단어가 들어있습니다. \n",
    "- 동물의 아이디와 이름, 중성화 여부를 아이디 순으로 조회하는 SQL문을 작성해주세요. \n",
    "- 이때 중성화가 되어있다면 'O', 아니라면 'X'라고 표시해주세요.\n",
    "\n",
    "### 예시\n",
    "\n",
    "- 예를 들어 ANIMAL_INS 테이블이 다음과 같다면\n",
    "\n",
    "ANIMAL_ID|\tANIMAL_TYPE|\tDATETIME|\tINTAKE_CONDITION|\tNAME|\tSEX_UPON_INTAKE\n",
    "-|-|-|-|-|-\n",
    "A355753|\tDog|\t2015-09-10 13:14:00|\tNormal|\tElijah|\tNeutered Male\n",
    "A373219|\tCat|\t2014-07-29 11:43:00|\tNormal|\tElla|\tSpayed Female\n",
    "A382192|\tDog|\t2015-03-13 13:14:00|\tNormal|\tMaxwell 2|\tIntact Male\n",
    "\n",
    "- 중성화한 동물: Elijah, Ella\n",
    "- 중성화하지 않은 동물: Maxwell 2\n",
    "- 따라서 SQL문을 실행하면 다음과 같이 나와야 합니다.\n",
    "\n",
    "ANIMAL_ID|\tNAME|\t중성화\n",
    "-|-|-\n",
    "A355753|\tElijah|\tO\n",
    "A373219|\tElla|\tO\n",
    "A382192|\tMaxwell 2|\tX\n",
    "\n",
    "- ※ 컬럼 이름은 일치하지 않아도 됩니다."
   ]
  },
  {
   "cell_type": "markdown",
   "metadata": {},
   "source": [
    "## 풀이\n",
    "\n",
    "```SQL\n",
    "SELECT ANIMAL_ID, NAME, IF((SEX_UPON_INTAKE LIKE ('%Neutered%') OR SEX_UPON_INTAKE LIKE ('%Spayed%')), 'O', 'X') AS 중성화\n",
    "FROM ANIMAL_INS\n",
    "ORDER BY ANIMAL_ID ASC\n",
    "```"
   ]
  }
 ],
 "metadata": {
  "kernelspec": {
   "display_name": "Python 3",
   "language": "python",
   "name": "python3"
  },
  "language_info": {
   "codemirror_mode": {
    "name": "ipython",
    "version": 3
   },
   "file_extension": ".py",
   "mimetype": "text/x-python",
   "name": "python",
   "nbconvert_exporter": "python",
   "pygments_lexer": "ipython3",
   "version": "3.7.6"
  }
 },
 "nbformat": 4,
 "nbformat_minor": 4
}
