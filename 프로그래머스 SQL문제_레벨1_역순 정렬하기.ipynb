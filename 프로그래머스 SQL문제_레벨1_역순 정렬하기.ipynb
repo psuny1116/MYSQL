{
 "cells": [
  {
   "cell_type": "markdown",
   "metadata": {},
   "source": [
    "# 역순 정렬하기_레벨1\n",
    "\n",
    "##  유형: SELECT\n",
    "\n",
    "### 문제 설명\n",
    "\n",
    "- ANIMAL_INS 테이블은 동물 보호소에 들어온 동물의 정보를 담은 테이블입니다. \n",
    "- ANIMAL_INS 테이블 구조는 다음과 같으며, ANIMAL_ID, ANIMAL_TYPE, DATETIME, INTAKE_CONDITION, NAME, SEX_UPON_INTAKE는 각각 동물의 아이디, 생물 종, 보호 시작일, 보호 시작 시 상태, 이름, 성별 및 중성화 여부를 나타냅니다.\n",
    "\n",
    "NAME|\tTYPE|\tNULLABLE\n",
    "-|-|-\n",
    "ANIMAL_ID|\tVARCHAR(N)|\tFALSE\n",
    "ANIMAL_TYPE|\tVARCHAR(N)|\tFALSE\n",
    "DATETIME|\tDATETIME|\tFALSE\n",
    "INTAKE_CONDITION|\tVARCHAR(N)|\tFALSE\n",
    "NAME|\tVARCHAR(N)|\tTRUE\n",
    "SEX_UPON_INTAKE| VARCHAR(N)|\tFALSE\n",
    "\n",
    "- 동물 보호소에 들어온 모든 동물의 이름과 보호 시작일을 조회하는 SQL문을 작성해주세요. \n",
    "- 이때 결과는 ANIMAL_ID 역순으로 보여주세요. \n",
    "- SQL을 실행하면 다음과 같이 출력되어야 합니다.\n",
    "\n",
    "NAME|\tDATETIME\n",
    "-|-\n",
    "Rocky|\t2016-06-07 09:17:00\n",
    "Shelly|\t2015-01-29 15:01:00\n",
    "Benji|\t2016-04-19 13:28:00\n",
    "Jackie|\t2016-01-03 16:25:00\n",
    "* Sam|\t2016-03-13 11:17:00\n",
    "\n",
    "..이하 생략"
   ]
  },
  {
   "cell_type": "markdown",
   "metadata": {},
   "source": [
    "# 풀이"
   ]
  },
  {
   "cell_type": "code",
   "execution_count": null,
   "metadata": {},
   "outputs": [],
   "source": [
    "SELECT NAME, DATETIME      # 2. NAME, DATETIME 칼럼 가져오기\n",
    "FROM ANIMAL_INS       # 1. ANIMAL_INS 테이블에서\n",
    "ORDER BY ANIMAL_ID DESC     # 3. ANIMAL_ID 칼럼을 기준으로 DESC(내림차순, 역순정렬)"
   ]
  }
 ],
 "metadata": {
  "kernelspec": {
   "display_name": "Python 3",
   "language": "python",
   "name": "python3"
  },
  "language_info": {
   "codemirror_mode": {
    "name": "ipython",
    "version": 3
   },
   "file_extension": ".py",
   "mimetype": "text/x-python",
   "name": "python",
   "nbconvert_exporter": "python",
   "pygments_lexer": "ipython3",
   "version": "3.7.6"
  }
 },
 "nbformat": 4,
 "nbformat_minor": 4
}
