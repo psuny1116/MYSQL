{
 "cells": [
  {
   "cell_type": "markdown",
   "metadata": {},
   "source": [
    "# 조건에 맞는 회원수 구하기_레벨1\n",
    "\n",
    "## 유형: SELECT\n",
    "\n",
    "### 문제 설명\n",
    "\n",
    "- 다음은 어느 의류 쇼핑몰에 가입한 회원 정보를 담은 USER_INFO 테이블입니다. \n",
    "- USER_INFO 테이블은 아래와 같은 구조로 되어있으며 USER_ID, GENDER, AGE, JOINED는 각각 회원 ID, 성별, 나이, 가입일을 나타냅니다.\n",
    "\n",
    "Column name|\tType|\tNullable\n",
    "-|-|-\n",
    "USER_ID|\tINTEGER|\tFALSE\n",
    "GENDER|\tTINYINT(1)|\tTRUE\n",
    "AGE|\tINTEGER|\tTRUE\n",
    "JOINED|\tDATE|\tFALSE\n",
    "\n",
    "- GENDER 컬럼은 비어있거나 0 또는 1의 값을 가지며 0인 경우 남자를, 1인 경우는 여자를 나타냅니다.\n",
    "\n",
    "### 문제\n",
    "\n",
    "- USER_INFO 테이블에서 2021년에 가입한 회원 중 나이가 20세 이상 29세 이하인 회원이 몇 명인지 출력하는 SQL문을 작성해주세요.\n",
    "\n",
    "### 예시\n",
    "\n",
    "- 예를 들어 USER_INFO 테이블이 다음과 같다면\n",
    "\n",
    "USER_ID|\tGENDER|\tAGE|\tJOINED\n",
    "-|-|-|-\n",
    "1|\t1|\t26|\t2021-10-05\n",
    "2|\t0|\tNULL|\t2021-11-25\n",
    "3|\t1|\t22|\t2021-11-30\n",
    "4|\t0|\t31|\t2021-12-03\n",
    "5|\t0|\t28|\t2021-12-16\n",
    "6|\t1|\t24|\t2022-01-03\n",
    "7|\t1|\tNULL|\t2022-01-09\n",
    "\n",
    "- 2021년에 가입한 회원 중 나이가 20세 이상 29세 이하인 회원은 USER_ID 가 1, 3, 5 인 회원들 이므로, 다음과 같이 결과가 나와야 합니다.\n",
    "\n",
    "USERS|\n",
    "-|\n",
    "3"
   ]
  },
  {
   "cell_type": "markdown",
   "metadata": {},
   "source": [
    "## 풀이\n",
    "\n",
    "```SQL\n",
    "SELECT COUNT(*) AS USERS\n",
    "FROM USER_INFO\n",
    "WHERE YEAR(JOINED) = 2021 AND AGE >= 20 AND AGE <= 20\n",
    "```"
   ]
  }
 ],
 "metadata": {
  "kernelspec": {
   "display_name": "Python 3",
   "language": "python",
   "name": "python3"
  },
  "language_info": {
   "codemirror_mode": {
    "name": "ipython",
    "version": 3
   },
   "file_extension": ".py",
   "mimetype": "text/x-python",
   "name": "python",
   "nbconvert_exporter": "python",
   "pygments_lexer": "ipython3",
   "version": "3.7.6"
  }
 },
 "nbformat": 4,
 "nbformat_minor": 4
}
