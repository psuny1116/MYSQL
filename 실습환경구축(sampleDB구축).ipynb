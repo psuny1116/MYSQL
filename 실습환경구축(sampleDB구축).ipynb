{
 "cells": [
  {
   "cell_type": "markdown",
   "metadata": {},
   "source": [
    "# sample DB 구축\n",
    "\n",
    "- MySQL Workbench 실행\n",
    "- Schemas -> Tables에서 우클릭 후 Table Data Import Wizard 실행\n",
    "- Schemas 섹션 빈 곳 우클릭 -> Create Schema 선택\n",
    "- Schema Name에 (입력할이름) 입력 후 Apply\n",
    "- Algorithm, Lock Type 그대로 Apply\n",
    "- Schemas -> (입력할이름) DB 우클릭 후 Table Data Import Wizard 실행\n",
    "- Browse에서 File Path 지정\n",
    "- Create new table 선택 후 Next 클릭\n",
    "- Field Type 그대로 Next 클릭\n",
    "- 다음 창에서도 Next 클릭\n",
    "- Data Import 기다린 후 Next 클릭\n",
    "- Finish하면 Table 1개 import 완료\n",
    "- (입력할이름) DB -> Tables 우클릭 후 Refresh All하여 Table Import 됐는지 확인\n",
    "- 나머지 두 Table도 동일한 과정 진행하면 성공"
   ]
  }
 ],
 "metadata": {
  "kernelspec": {
   "display_name": "Python 3",
   "language": "python",
   "name": "python3"
  },
  "language_info": {
   "codemirror_mode": {
    "name": "ipython",
    "version": 3
   },
   "file_extension": ".py",
   "mimetype": "text/x-python",
   "name": "python",
   "nbconvert_exporter": "python",
   "pygments_lexer": "ipython3",
   "version": "3.7.6"
  }
 },
 "nbformat": 4,
 "nbformat_minor": 4
}
