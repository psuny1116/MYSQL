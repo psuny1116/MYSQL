{
 "cells": [
  {
   "cell_type": "markdown",
   "metadata": {},
   "source": [
    "# 3월에 태어난 여성 회원 목록 출력하기_레벨2\n",
    "\n",
    "## 유형: SELECT\n",
    "\n",
    "### 문제 설명\n",
    "\n",
    "- 다음은 식당 리뷰 사이트의 회원 정보를 담은 MEMBER_PROFILE 테이블입니다. \n",
    "- MEMBER_PROFILE 테이블은 다음과 같으며 MEMBER_ID, MEMBER_NAME, TLNO, GENDER, DATE_OF_BIRTH는 회원 ID, 회원 이름, 회원 연락처, 성별, 생년월일을 의미합니다.\n",
    "\n",
    "Column name|\tType|\tNullable\n",
    "-|-|-\n",
    "MEMBER_ID|\tVARCHAR(100)|\tFALSE\n",
    "MEMBER_NAME|\tVARCHAR(50)|\tFALSE\n",
    "TLNO|\tVARCHAR(50)|\tTRUE\n",
    "GENDER|\tVARCHAR(1)|\tTRUE\n",
    "DATE_OF_BIRTH|\tDATE|\tTRUE\n",
    "\n",
    "### 문제\n",
    "\n",
    "- MEMBER_PROFILE 테이블에서 생일이 3월인 여성 회원의 ID, 이름, 성별, 생년월일을 조회하는 SQL문을 작성해주세요. \n",
    "- 이때 전화번호가 NULL인 경우는 출력대상에서 제외시켜 주시고, 결과는 회원ID를 기준으로 오름차순 정렬해주세요.\n",
    "\n",
    "### 예시\n",
    "\n",
    "- MEMBER_PROFILE 테이블이 다음과 같을 때\n",
    "\n",
    "MEMBER_ID|\tMEMBER_NAME|\tTLNO|\tGENDER|\tDATE_OF_BIRTH\n",
    "-|-|-|-|-\n",
    "jiho92@naver.com|\t이지호|\t01076432111|\tW|\t1992-02-12\n",
    "jiyoon22@hotmail.com|\t김지윤|\t01032324117|\tW|\t1992-02-22\n",
    "jihoon93@hanmail.net|\t김지훈|\t01023258688|\tM|\t1993-02-23\n",
    "seoyeons@naver.com|\t박서연|\t01076482209|\tW|\t1993-03-16\n",
    "yoonsy94@gmail.com|\t윤서연|\tNULL|\tW|\t1994-03-19\n",
    "\n",
    "- SQL을 실행하면 다음과 같이 출력되어야 합니다.\n",
    "\n",
    "MEMBER_ID|\tMEMBER_NAME|\tGENDER|\tDATE_OF_BIRTH\n",
    "-|-|-|-\n",
    "seoyeons@naver.com|박서연|W|1993-03-16\n",
    "\n",
    "### 주의사항\n",
    "\n",
    "- DATE_OF_BIRTH의 데이트 포맷이 예시와 동일해야 정답처리 됩니다."
   ]
  },
  {
   "cell_type": "markdown",
   "metadata": {},
   "source": [
    "## 풀이\n",
    "\n",
    "```SQL\n",
    "SELECT MEMBER_ID, MEMBER_NAME, GENDER, DATE_FORMAT(DATE_OF_BIRTH, '%Y-%m-%d') AS DATE_OF_BIRTH\n",
    "FROM MEMBER_PROFILE\n",
    "WHERE MONTH(DATE_OF_BIRTH) = 03 AND GENDER = 'W' AND TLNO IS NOT NULL\n",
    "ORDER BY MEMBER_ID ASC\n",
    "```"
   ]
  }
 ],
 "metadata": {
  "kernelspec": {
   "display_name": "Python 3",
   "language": "python",
   "name": "python3"
  },
  "language_info": {
   "codemirror_mode": {
    "name": "ipython",
    "version": 3
   },
   "file_extension": ".py",
   "mimetype": "text/x-python",
   "name": "python",
   "nbconvert_exporter": "python",
   "pygments_lexer": "ipython3",
   "version": "3.7.6"
  }
 },
 "nbformat": 4,
 "nbformat_minor": 4
}
