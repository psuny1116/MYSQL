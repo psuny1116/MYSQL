{
 "cells": [
  {
   "cell_type": "markdown",
   "metadata": {},
   "source": [
    "# 상위 N개 레코드_레벨1\n",
    "\n",
    "## 유형: SELECT\n",
    "\n",
    "### 문제 설명\n",
    "\n",
    "- ANIMAL_INS 테이블은 동물 보호소에 들어온 동물의 정보를 담은 테이블입니다. \n",
    "- ANIMAL_INS 테이블 구조는 다음과 같으며, ANIMAL_ID, ANIMAL_TYPE, DATETIME, INTAKE_CONDITION, NAME, SEX_UPON_INTAKE는 각각 동물의 아이디, 생물 종, 보호 시작일, 보호 시작 시 상태, 이름, 성별 및 중성화 여부를 나타냅니다.\n",
    "\n",
    "NAME|\tTYPE|\tNULLABLE\n",
    "-|-|-\n",
    "ANIMAL_ID|\tVARCHAR(N)|\tFALSE\n",
    "ANIMAL_TYPE|\tVARCHAR(N)|\tFALSE\n",
    "DATETIME|\tDATETIME|\tFALSE\n",
    "INTAKE_CONDITION|\tVARCHAR(N)|\tFALSE\n",
    "NAME|\tVARCHAR(N)|\tTRUE\n",
    "SEX_UPON_INTAKE|\tVARCHAR(N)|\tFALSE\n",
    "\n",
    "- 동물 보호소에 가장 먼저 들어온 동물의 이름을 조회하는 SQL 문을 작성해주세요.\n",
    "\n",
    "### 예시\n",
    "\n",
    "- 예를 들어 ANIMAL_INS 테이블이 다음과 같다면\n",
    "\n",
    "ANIMAL_ID|\tANIMAL_TYPE|\tDATETIME|\tINTAKE_CONDITION|\tNAME|\tSEX_UPON_INTAKE\n",
    "-|-|-|-|-|-\n",
    "A399552|\tDog|\t2013-10-14 15:38:00|\tNormal|\tJack|\tNeutered Male\n",
    "A379998|\tDog|\t2013-10-23 11:42:00|\tNormal|\tDisciple|\tIntact Male\n",
    "A370852|\tDog|\t2013-11-03 15:04:00|\tNormal|\tKatie|\tSpayed Female\n",
    "A403564|\tDog|\t2013-11-18 17:03:00|\tNormal|\tAnna|\tSpayed Female\n",
    "\n",
    "- 이 중 가장 보호소에 먼저 들어온 동물은 Jack입니다. \n",
    "- 따라서 SQL문을 실행하면 다음과 같이 나와야 합니다.\n",
    "\n",
    "NAME|\n",
    "-|\n",
    "Jack\n",
    "\n",
    "- ※ 보호소에 가장 먼저 들어온 동물은 한 마리인 경우만 테스트 케이스로 주어집니다.\n",
    "\n"
   ]
  },
  {
   "cell_type": "markdown",
   "metadata": {},
   "source": [
    "# 풀이"
   ]
  },
  {
   "cell_type": "code",
   "execution_count": null,
   "metadata": {},
   "outputs": [],
   "source": [
    "SELECT NAME     # 2. NAME 칼럼 선택\n",
    "FROM ANIMAL_INS      # 1. ANIMAL_INS 테이블에서\n",
    "ORDER BY DATETIME     # 3. DATETIME 칼럼을 기준으로 정렬(오름차순)\n",
    "LIMIT 1     # 4. 맨 위에서부터 1개까지의 정보를 선택. LIMIT 2, 6 이렇게 쓰면 2번째부터 6번째까지"
   ]
  }
 ],
 "metadata": {
  "kernelspec": {
   "display_name": "Python 3",
   "language": "python",
   "name": "python3"
  },
  "language_info": {
   "codemirror_mode": {
    "name": "ipython",
    "version": 3
   },
   "file_extension": ".py",
   "mimetype": "text/x-python",
   "name": "python",
   "nbconvert_exporter": "python",
   "pygments_lexer": "ipython3",
   "version": "3.7.6"
  }
 },
 "nbformat": 4,
 "nbformat_minor": 4
}
