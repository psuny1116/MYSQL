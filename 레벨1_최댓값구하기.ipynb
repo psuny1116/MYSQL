{
 "cells": [
  {
   "cell_type": "markdown",
   "metadata": {},
   "source": [
    "# 최댓값 구하기_레벨1\n",
    "\n",
    "## 유형: SUM, MAX, MIN\n",
    "\n",
    "### 문제 설명\n",
    "\n",
    "- ANIMAL_INS 테이블은 동물 보호소에 들어온 동물의 정보를 담은 테이블입니다. \n",
    "- ANIMAL_INS 테이블 구조는 다음과 같으며, ANIMAL_ID, ANIMAL_TYPE, DATETIME, INTAKE_CONDITION, NAME, SEX_UPON_INTAKE는 각각 동물의 아이디, 생물 종, 보호 시작일, 보호 시작 시 상태, 이름, 성별 및 중성화 여부를 나타냅니다.\n",
    "\n",
    "NAME|\tTYPE|\tNULLABLE\n",
    "-|-|-\n",
    "ANIMAL_ID|\tVARCHAR(N)|\tFALSE\n",
    "ANIMAL_TYPE|\tVARCHAR(N)|\tFALSE\n",
    "DATETIME|\tDATETIME|\tFALSE\n",
    "INTAKE_CONDITION|\tVARCHAR(N)|\tFALSE\n",
    "NAME|\tVARCHAR(N)|\tTRUE\n",
    "SEX_UPON_INTAKE|\tVARCHAR(N)|\tFALSE\n",
    "\n",
    "- 가장 최근에 들어온 동물은 언제 들어왔는지 조회하는 SQL 문을 작성해주세요.\n",
    "\n",
    "### 예시\n",
    "\n",
    "- 예를 들어 ANIMAL_INS 테이블이 다음과 같다면\n",
    "\n",
    "ANIMAL_ID|\tANIMAL_TYPE|\tDATETIME|\tINTAKE_CONDITION|\tNAME|\tSEX_UPON_INTAKE\n",
    "-|-|-|-|-|-\n",
    "A399552|\tDog|\t2013-10-14 15:38:00|\tNormal|\tJack|\tNeutered Male\n",
    "A379998|\tDog|\t2013-10-23 11:42:00|\tNormal|\tDisciple|\tIntact Male\n",
    "A370852|\tDog|\t2013-11-03 15:04:00|\tNormal|\tKatie|\tSpayed Female\n",
    "A403564|\tDog|\t2013-11-18 17:03:00|\tNormal|\tAnna|\tSpayed Female\n",
    "\n",
    "- 가장 늦게 들어온 동물은 Anna이고, Anna는 2013-11-18 17:03:00에 들어왔습니다. \n",
    "- 따라서 SQL문을 실행하면 다음과 같이 나와야 합니다.\n",
    "\n",
    "시간|\n",
    "-|\n",
    "2013-11-18 17:03:00|\n",
    "\n",
    "- ※ 컬럼 이름(위 예제에서는 \"시간\")은 일치하지 않아도 됩니다."
   ]
  },
  {
   "cell_type": "markdown",
   "metadata": {},
   "source": [
    "# 풀이"
   ]
  },
  {
   "cell_type": "code",
   "execution_count": null,
   "metadata": {},
   "outputs": [],
   "source": [
    "# 내 풀이\n",
    "\n",
    "SELECT DATETIME     # 2. DATETIME 칼럼 선택\n",
    "FROM ANIMAL_INS     # 1. ANIMAL_INS 테이블에서\n",
    "ORDER BY DATETIME DESC     # 3. DATETIME 칼럼을 기준으로 내림차순 정렬\n",
    "LIMIT 1     # 4. 가장 위에 있는 값 1개 선택"
   ]
  },
  {
   "cell_type": "code",
   "execution_count": null,
   "metadata": {},
   "outputs": [],
   "source": [
    "# 다른 풀이\n",
    "\n",
    "SELECT MAX(DATETIME)     # 2. DATETIME 칼럼의 최댓값 선택\n",
    "FROM ANIMAL_INS     # 1. ANIMAL_INS 테이블에서"
   ]
  }
 ],
 "metadata": {
  "kernelspec": {
   "display_name": "Python 3",
   "language": "python",
   "name": "python3"
  },
  "language_info": {
   "codemirror_mode": {
    "name": "ipython",
    "version": 3
   },
   "file_extension": ".py",
   "mimetype": "text/x-python",
   "name": "python",
   "nbconvert_exporter": "python",
   "pygments_lexer": "ipython3",
   "version": "3.7.6"
  }
 },
 "nbformat": 4,
 "nbformat_minor": 4
}
