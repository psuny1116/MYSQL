{
 "cells": [
  {
   "cell_type": "markdown",
   "metadata": {},
   "source": [
    "# 12세 이하인 여자 환자 목록 출력하기_레벨1\n",
    "\n",
    "## 유형: SELECT\n",
    "\n",
    "### 문제 설명\n",
    "\n",
    "- 다음은 종합병원에 등록된 환자정보를 담은 PATIENT 테이블입니다. \n",
    "- PATIENT 테이블은 다음과 같으며 PT_NO, PT_NAME, GEND_CD, AGE, TLNO는 각각 환자번호, 환자이름, 성별코드, 나이, 전화번호를 의미합니다.\n",
    "\n",
    "Column name|\tType|\tNullable\n",
    "-|-|-\n",
    "PT_NO|\tVARCHAR(10)|\tFALSE\n",
    "PT_NAME|\tVARCHAR(20)|\tFALSE\n",
    "GEND_CD|\tVARCHAR(1)|\tFALSE\n",
    "AGE|\tINTEGER|\tFALSE\n",
    "TLNO|\tVARCHAR(50)|\tTRUE\n",
    "\n",
    "### 문제\n",
    "\n",
    "- PATIENT 테이블에서 12세 이하인 여자환자의 환자이름, 환자번호, 성별코드, 나이, 전화번호를 조회하는 SQL문을 작성해주세요. \n",
    "- 이때 전화번호가 없는 경우, 'NONE'으로 출력시켜 주시고 결과는 나이를 기준으로 내림차순 정렬하고, 나이 같다면 환자이름을 기준으로 오름차순 정렬해주세요.\n",
    "\n",
    "### 예시\n",
    "\n",
    "- PATIENT 테이블이 다음과 같을 때\n",
    "\n",
    "PT_NO|\tPT_NAME|\tGEND_CD|\tAGE|\tTLNO\n",
    "-|-|-|-|-\n",
    "PT22000003|\t브라운|\tM|\t18|\t01031246641\n",
    "PT22000004|\t크롱|\tM|\t7|\tNULL\n",
    "PT22000006|\t뽀뽀|\tW|\t8|\tNULL\n",
    "PT22000009|\t한나|\tW|\t12|\t01032323117\n",
    "PT22000012|\t뿡뿡이|\tM|\t5|\tNULL\n",
    "PT22000013|\t크리스|\tM|\t30|\t01059341192\n",
    "PT22000014|\t토프|\tW|\t22|\t01039458213\n",
    "PT22000018|\t안나|\tW|\t11|\tNULL\n",
    "PT22000019|\t바라|\tW|\t10|\t01079068799\n",
    "PT22000021|\t릴로|\tW|\t33|\t01023290767\n",
    "\n",
    "- SQL을 실행하면 다음과 같이 출력되어야 합니다.\n",
    "\n",
    "PT_NAME|\tPT_NO|\tGEND_CD|\tAGE|\tTLNO\n",
    "-|-|-|-|-\n",
    "한나|\tPT22000009|\tW|\t12|\t01032323117\n",
    "안나|\tPT22000018|\tW|\t11|\tNONE\n",
    "바라|\tPT22000019|\tW|\t10|\t01079068799\n",
    "뽀뽀|\tPT22000006|\tW|\t8|\tNONE"
   ]
  },
  {
   "cell_type": "markdown",
   "metadata": {},
   "source": [
    "## 풀이\n",
    "\n",
    "```SQL\n",
    "SELECT PT_NAME, PT_NO, GEND_CD, AGE, IFNULL(TLNO, 'NONE') AS TLNO\n",
    "FROM PATIENT\n",
    "WHERE AGE <= 12 AND GEND_CD = 'W'\n",
    "ORDER BY AGE DESC, PT_NAME ASC     # DESC: 내림차순, ASC: 오름차순\n",
    "```"
   ]
  }
 ],
 "metadata": {
  "kernelspec": {
   "display_name": "Python 3",
   "language": "python",
   "name": "python3"
  },
  "language_info": {
   "codemirror_mode": {
    "name": "ipython",
    "version": 3
   },
   "file_extension": ".py",
   "mimetype": "text/x-python",
   "name": "python",
   "nbconvert_exporter": "python",
   "pygments_lexer": "ipython3",
   "version": "3.7.6"
  }
 },
 "nbformat": 4,
 "nbformat_minor": 4
}
