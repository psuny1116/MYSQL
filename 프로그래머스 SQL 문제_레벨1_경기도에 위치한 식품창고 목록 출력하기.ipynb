{
 "cells": [
  {
   "cell_type": "markdown",
   "metadata": {},
   "source": [
    "# 경기도에 위치한 식품창고 목록 출력하기_레벨1\n",
    "\n",
    "## 유형: IS NULL\n",
    "\n",
    "### 문제 설명\n",
    "\n",
    "- 다음은 식품창고의 정보를 담은 FOOD_WAREHOUSE 테이블입니다. \n",
    "- FOOD_WAREHOUSE 테이블은 다음과 같으며 WAREHOUSE_ID, WAREHOUSE_NAME, ADDRESS, TLNO, FREEZER_YN는 창고 ID, 창고 이름, 창고 주소, 전화번호, 냉동시설 여부를 의미합니다.\n",
    "\n",
    "Column name|\tType|\tNullable\n",
    "-|-|-\n",
    "WAREHOUSE_ID|\tVARCHAR(10)|\tFALSE\n",
    "WAREHOUSE_NAME|\tVARCHAR(20)|\tFALSE\n",
    "ADDRESS|\tVARCHAR(100)|\tTRUE\n",
    "TLNO|\tVARCHAR(20)|\tTRUE\n",
    "FREEZER_YN|\tVARCHAR(1)|\tTRUE\n",
    "\n",
    "### 문제\n",
    "\n",
    "- FOOD_WAREHOUSE 테이블에서 경기도에 위치한 창고의 ID, 이름, 주소, 냉동시설 여부를 조회하는 SQL문을 작성해주세요. \n",
    "- 이때 냉동시설 여부가 NULL인 경우, 'N'으로 출력시켜 주시고 결과는 창고 ID를 기준으로 오름차순 정렬해주세요.\n",
    "\n",
    "### 예시\n",
    "\n",
    "- FOOD_WAREHOUSE 테이블이 다음과 같을 때\n",
    "\n",
    "WAREHOUSE_ID|\tWAREHOUSE_NAME|\tADDRESS|\tTLNO|\tFREEZER_YN\n",
    "-|-|-|-|-\n",
    "WH0001|\t창고_경기1|\t경기도 안산시 상록구 용담로 141|\t031-152-1332|\tY\n",
    "WH0002|\t창고_충북1|\t충청북도 진천군 진천읍 씨제이로 110|\t043-623-9900|\tY\n",
    "WH0003|\t창고_경기2|\t경기도 이천시 마장면 덕평로 811|\t031-221-7241|\tNULL\n",
    "WH0004|\t창고_경기3|\t경기도 김포시 대곶면 율생중앙로205번길|\t031-671-1900|\tN\n",
    "WH0005|\t창고_충남1|\t충청남도 천안시 동남구 광덕면 신덕리1길 9|\t041-876-5421|\tY\n",
    "\n",
    "- SQL을 실행하면 다음과 같이 출력되어야 합니다.\n",
    "\n",
    "WAREHOUSE_ID|\tWAREHOUSE_NAME|\tADDRESS|\tFREEZER_YN\n",
    "-|-|-|-\n",
    "WH0001|\t창고_경기1|\t경기도 안산시 상록구 용담로 141|\tY\n",
    "WH0003|\t창고_경기2|\t경기도 이천시 마장면 덕평로 811|\tN\n",
    "WH0004|\t창고_경기3|\t경기도 김포시 대곶면 율생중앙로205번길|\tN"
   ]
  },
  {
   "cell_type": "markdown",
   "metadata": {},
   "source": [
    "## 풀이\n",
    "\n",
    "```SQL\n",
    "SELECT WAREHOUSE_ID, WAREHOUSE_NAME, ADDRESS, IFNULL(FREEZER_YN, 'N') AS FREEZER_YN\n",
    "FROM FOOD_WAREHOUSE\n",
    "WHERE ADDRESS LIKE '경기도%'\n",
    "ORDER BY WAREHOUSE_ID ASC\n",
    "```"
   ]
  }
 ],
 "metadata": {
  "kernelspec": {
   "display_name": "Python 3",
   "language": "python",
   "name": "python3"
  },
  "language_info": {
   "codemirror_mode": {
    "name": "ipython",
    "version": 3
   },
   "file_extension": ".py",
   "mimetype": "text/x-python",
   "name": "python",
   "nbconvert_exporter": "python",
   "pygments_lexer": "ipython3",
   "version": "3.7.6"
  }
 },
 "nbformat": 4,
 "nbformat_minor": 4
}
