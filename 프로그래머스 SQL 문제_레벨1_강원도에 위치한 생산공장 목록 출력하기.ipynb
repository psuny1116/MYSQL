{
 "cells": [
  {
   "cell_type": "markdown",
   "metadata": {},
   "source": [
    "# 강원도에 위치한 생산공장 목록 출력하기\n",
    "\n",
    "## 유형: SELECT\n",
    "\n",
    "### 문제 설명\n",
    "\n",
    "- 다음은 식품공장의 정보를 담은 FOOD_FACTORY 테이블입니다. \n",
    "- FOOD_FACTORY 테이블은 다음과 같으며 FACTORY_ID, FACTORY_NAME, ADDRESS, TLNO는 각각 공장 ID, 공장 이름, 주소, 전화번호를 의미합니다.\n",
    "\n",
    "Column name|\tType|\tNullable\n",
    "-|-|-\n",
    "FACTORY_ID|\tVARCHAR(10)|\tFALSE\n",
    "FACTORY_NAME|\tVARCHAR(50)|\tFALSE\n",
    "ADDRESS|\tVARCHAR(100)|\tFALSE\n",
    "TLNO|\tVARCHAR(20)|\tTRUE\n",
    "\n",
    "### 문제\n",
    "\n",
    "- FOOD_FACTORY 테이블에서 강원도에 위치한 식품공장의 공장 ID, 공장 이름, 주소를 조회하는 SQL문을 작성해주세요. \n",
    "- 이때 결과는 공장 ID를 기준으로 오름차순 정렬해주세요.\n",
    "\n",
    "### 예시\n",
    "\n",
    "- FOOD_FACTORY 테이블이 다음과 같을 때\n",
    "\n",
    "FACTORY_ID|\tFACTORY_NAME|\tADDRESS|\tTLNO\n",
    "-|-|-|-\n",
    "FT19980003|\t(주)맛있는라면|\t강원도 정선군 남면 칠현로 679|\t033-431-3122\n",
    "FT19980004|\t(주)맛있는기름|\t경기도 평택시 포승읍 포승공단순환로 245|\t031-651-2410\n",
    "FT20010001|\t(주)맛있는소스|\t경상북도 구미시 1공단로7길 58-11|\t054-231-2121\n",
    "FT20010002|\t(주)맛있는통조림|\t전라남도 영암군 미암면 곤미현로 1336|\t061-341-5210\n",
    "FT20100001|\t(주)맛있는차|\t전라남도 장성군 서삼면 장산리 233-1번지|\t061-661-1420\n",
    "FT20100002|\t(주)맛있는김치|\t충청남도 아산시 탕정면 탕정면로 485|\t041-241-5421\n",
    "FT20100003|\t(주)맛있는음료|\t강원도 원주시 문막읍 문막공단길 154|\t033-232-7630\n",
    "FT20100004|\t(주)맛있는국|\t강원도 평창군 봉평면 진조길 227-35|\t033-323-6640\n",
    "FT20110001|\t(주)맛있는밥|\t경기도 화성시 팔탄면 가재리 34번지|\t031-661-1532\n",
    "FT20110002|\t(주)맛있는과자|\t광주광역시 북구 하서로 222|\t062-211-7759\n",
    "\n",
    "- SQL을 실행하면 다음과 같이 출력되어야 합니다.\n",
    "\n",
    "FACTORY_ID|\tFACTORY_NAME|\tADDRESS\n",
    "-|-|-\n",
    "FT19980003|\t(주)맛있는라면|\t강원도 정선군 남면 칠현로 679\n",
    "FT20100003|\t(주)맛있는음료|\t강원도 원주시 문막읍 문막공단길 154\n",
    "FT20100004|\t(주)맛있는국|\t강원도 평창군 봉평면 진조길 227-35"
   ]
  },
  {
   "cell_type": "markdown",
   "metadata": {},
   "source": [
    "## 풀이\n",
    "\n",
    "```SQL\n",
    "SELECT FACTORY_ID, FACTORY_NAME, ADDRESS\n",
    "FROM FOOD_FACTORY\n",
    "WHERE ADDRESS LIKE '강원도%'\n",
    "ORDER BY FACTORY_ID ASC\n",
    "```"
   ]
  }
 ],
 "metadata": {
  "kernelspec": {
   "display_name": "Python 3",
   "language": "python",
   "name": "python3"
  },
  "language_info": {
   "codemirror_mode": {
    "name": "ipython",
    "version": 3
   },
   "file_extension": ".py",
   "mimetype": "text/x-python",
   "name": "python",
   "nbconvert_exporter": "python",
   "pygments_lexer": "ipython3",
   "version": "3.7.6"
  }
 },
 "nbformat": 4,
 "nbformat_minor": 4
}
