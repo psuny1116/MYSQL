{
 "cells": [
  {
   "cell_type": "markdown",
   "metadata": {},
   "source": [
    "# 입양 시각 구하기(1)_레벨2\n",
    "\n",
    "## 유형: GROUP BY\n",
    "\n",
    "### 문제 설명\n",
    "\n",
    "- ANIMAL_OUTS 테이블은 동물 보호소에서 입양 보낸 동물의 정보를 담은 테이블입니다. \n",
    "- ANIMAL_OUTS 테이블 구조는 다음과 같으며, ANIMAL_ID, ANIMAL_TYPE, DATETIME, NAME, SEX_UPON_OUTCOME는 각각 동물의 아이디, 생물 종, 입양일, 이름, 성별 및 중성화 여부를 나타냅니다.\n",
    "\n",
    "NAME|\tTYPE|\tNULLABLE\n",
    "-|-|-\n",
    "ANIMAL_ID|\tVARCHAR(N)|\tFALSE\n",
    "ANIMAL_TYPE|\tVARCHAR(N)|\tFALSE\n",
    "DATETIME|\tDATETIME|\tFALSE\n",
    "NAME|\tVARCHAR(N)|\tTRUE\n",
    "SEX_UPON_OUTCOME|\tVARCHAR(N)|\tFALSE\n",
    "\n",
    "- 보호소에서는 몇 시에 입양이 가장 활발하게 일어나는지 알아보려 합니다. \n",
    "- 09:00부터 19:59까지, 각 시간대별로 입양이 몇 건이나 발생했는지 조회하는 SQL문을 작성해주세요. \n",
    "- 이때 결과는 시간대 순으로 정렬해야 합니다.\n",
    "\n",
    "### 예시\n",
    "\n",
    "- SQL문을 실행하면 다음과 같이 나와야 합니다.\n",
    "\n",
    "HOUR|\tCOUNT\n",
    "-|-\n",
    "9|\t1\n",
    "10|\t2\n",
    "11|\t13\n",
    "12|\t10\n",
    "13|\t14\n",
    "14|\t9\n",
    "15|\t7\n",
    "16|\t10\n",
    "17|\t12\n",
    "18|\t16\n",
    "19|\t2"
   ]
  },
  {
   "cell_type": "markdown",
   "metadata": {},
   "source": [
    "## 풀이\n",
    "\n",
    "```SQL\n",
    "SELECT HOUR(DATETIME) AS HOUR, COUNT(ANIMAL_ID) AS COUNT\n",
    "FROM ANIMAL_OUTS\n",
    "WHERE HOUR(DATETIME) >= 9 AND HOUR(DATETIME) <= 19\n",
    "GROUP BY HOUR\n",
    "ORDER BY HOUR ASC\n",
    "```"
   ]
  }
 ],
 "metadata": {
  "kernelspec": {
   "display_name": "Python 3",
   "language": "python",
   "name": "python3"
  },
  "language_info": {
   "codemirror_mode": {
    "name": "ipython",
    "version": 3
   },
   "file_extension": ".py",
   "mimetype": "text/x-python",
   "name": "python",
   "nbconvert_exporter": "python",
   "pygments_lexer": "ipython3",
   "version": "3.7.6"
  }
 },
 "nbformat": 4,
 "nbformat_minor": 4
}
