{
 "cells": [
  {
   "cell_type": "markdown",
   "metadata": {},
   "source": [
    "# 오랜 기간 보호한 동물(2)_레벨3\n",
    "\n",
    "## 유형: STRING, DATE\n",
    "\n",
    "### 문제 설명\n",
    "\n",
    "- ANIMAL_INS 테이블은 동물 보호소에 들어온 동물의 정보를 담은 테이블입니다. \n",
    "- ANIMAL_INS 테이블 구조는 다음과 같으며, ANIMAL_ID, ANIMAL_TYPE, DATETIME, INTAKE_CONDITION, NAME, SEX_UPON_INTAKE는 각각 동물의 아이디, 생물 종, 보호 시작일, 보호 시작 시 상태, 이름, 성별 및 중성화 여부를 나타냅니다.\n",
    "\n",
    "NAME|\tTYPE|\tNULLABLE\n",
    "-|-|-\n",
    "ANIMAL_ID|\tVARCHAR(N)|\tFALSE\n",
    "ANIMAL_TYPE|\tVARCHAR(N)|\tFALSE\n",
    "DATETIME|\tDATETIME|\tFALSE\n",
    "INTAKE_CONDITION|\tVARCHAR(N)|\tFALSE\n",
    "NAME|\tVARCHAR(N)|\tTRUE\n",
    "SEX_UPON_INTAKE|\tVARCHAR(N)|\tFALSE\n",
    "\n",
    "- ANIMAL_OUTS 테이블은 동물 보호소에서 입양 보낸 동물의 정보를 담은 테이블입니다. \n",
    "- ANIMAL_OUTS 테이블 구조는 다음과 같으며, ANIMAL_ID, ANIMAL_TYPE, DATETIME, NAME, SEX_UPON_OUTCOME는 각각 동물의 아이디, 생물 종, 입양일, 이름, 성별 및 중성화 여부를 나타냅니다. \n",
    "- ANIMAL_OUTS 테이블의 ANIMAL_ID는 ANIMAL_INS의 ANIMAL_ID의 외래 키입니다.\n",
    "\n",
    "NAME|\tTYPE|\tNULLABLE\n",
    "-|-|-\n",
    "ANIMAL_ID|\tVARCHAR(N)|\tFALSE\n",
    "ANIMAL_TYPE|\tVARCHAR(N)|\tFALSE\n",
    "DATETIME|\tDATETIME|\tFALSE\n",
    "NAME|\tVARCHAR(N)|\tTRUE\n",
    "SEX_UPON_OUTCOME|\tVARCHAR(N)|\tFALSE\n",
    "\n",
    "- 입양을 간 동물 중, 보호 기간이 가장 길었던 동물 두 마리의 아이디와 이름을 조회하는 SQL문을 작성해주세요. \n",
    "- 이때 결과는 보호 기간이 긴 순으로 조회해야 합니다.\n",
    "\n",
    "### 예시\n",
    "\n",
    "- 예를 들어, ANIMAL_INS 테이블과 ANIMAL_OUTS 테이블이 다음과 같다면\n",
    "\n",
    "- ANIMAL_INS\n",
    "\n",
    "ANIMAL_ID|\tANIMAL_TYPE|\tDATETIME|\tINTAKE_CONDITION|\tNAME|\tSEX_UPON_INTAKE\n",
    "-|-|-|-|-|-\n",
    "A354597|\tCat|\t2014-05-02 12:16:00|\tNormal|\tAriel|\tSpayed Female\n",
    "A362707|\tDog|\t2016-01-27 12:27:00|\tSick|\tGirly Girl|\tSpayed Female\n",
    "A370507|\tCat|\t2014-10-27 14:43:00|\tNormal|\tEmily|\tSpayed Female\n",
    "A414513|\tDog|\t2016-06-07 09:17:00|\tNormal|\tRocky|\tNeutered Male\n",
    "\n",
    "- ANIMAL_OUTS\n",
    "\n",
    "ANIMAL_ID|\tANIMAL_TYPE|\tDATETIME|\tNAME|\tSEX_UPON_OUTCOME\n",
    "-|-|-|-|-\n",
    "A354597|\tCat|\t2014-06-03 12:30:00|\tAriel|\tSpayed Female\n",
    "A362707|\tDog|\t2017-01-10 10:44:00|\tGirly Girl|\tSpayed Female\n",
    "A370507|\tCat|\t2015-08-15 09:24:00|\tEmily|\tSpayed Female\n",
    "\n",
    "- SQL문을 실행하면 다음과 같이 나와야 합니다.\n",
    "\n",
    "ANIMAL_ID|\tNAME\n",
    "-|-\n",
    "A362707|\tGirly Girl\n",
    "A370507|\tEmily\n",
    "\n",
    "- ※ 입양을 간 동물이 2마리 이상인 경우만 입력으로 주어집니다."
   ]
  },
  {
   "cell_type": "markdown",
   "metadata": {},
   "source": [
    "## 풀이\n",
    "\n",
    "```SQL\n",
    "SELECT B.ANIMAL_ID, B.NAME\n",
    "FROM ANIMAL_INS AS A\n",
    "JOIN ANIMAL_OUTS AS B\n",
    "ON A.ANIMAL_ID = B.ANIMAL_ID\n",
    "ORDER BY B.DATETIME - A.DATETIME DESC\n",
    "LIMIT 2\n",
    "```"
   ]
  }
 ],
 "metadata": {
  "kernelspec": {
   "display_name": "Python 3",
   "language": "python",
   "name": "python3"
  },
  "language_info": {
   "codemirror_mode": {
    "name": "ipython",
    "version": 3
   },
   "file_extension": ".py",
   "mimetype": "text/x-python",
   "name": "python",
   "nbconvert_exporter": "python",
   "pygments_lexer": "ipython3",
   "version": "3.7.6"
  }
 },
 "nbformat": 4,
 "nbformat_minor": 4
}
