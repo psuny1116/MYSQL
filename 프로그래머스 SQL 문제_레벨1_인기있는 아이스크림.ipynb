{
 "cells": [
  {
   "cell_type": "markdown",
   "metadata": {},
   "source": [
    "# 인기있는 아이스크림\n",
    "\n",
    "## 유형: SELECT\n",
    "\n",
    "### 문제 설명\n",
    "\n",
    "- FIRST_HALF 테이블은 아이스크림 가게의 상반기 주문 정보를 담은 테이블입니다.\n",
    "- FIRST_HALF 테이블 구조는 다음과 같으며, SHIPMENT_ID, FLAVOR, TOTAL_ORDER는 각각 아이스크림 공장에서 아이스크림 가게까지의 출하 번호, 아이스크림 맛, 상반기 아이스크림 총주문량을 나타냅니다.\n",
    "\n",
    "NAME|\tTYPE|\tNULLABLE\n",
    "-|-|-\n",
    "SHIPMENT_ID|\tINT(N)|\tFALSE\n",
    "FLAVOR|\tVARCHAR(N)|\tFALSE\n",
    "TOTAL_ORDER|\tINT(N)|\tFALSE\n",
    "\n",
    "### 문제\n",
    "\n",
    "- 상반기에 판매된 아이스크림의 맛을 총주문량을 기준으로 내림차순 정렬하고 총주문량이 같다면 출하 번호를 기준으로 오름차순 정렬하여 조회하는 SQL 문을 작성해주세요.\n",
    "\n",
    "### 예시\n",
    "\n",
    "- 예를 들어 FIRST_HALF 테이블이 다음과 같을 때\n",
    "\n",
    "SHIPMENT_ID|\tFLAVOR|\tTOTAL_ORDER\n",
    "-|-|-\n",
    "101|\tchocolate|\t3200\n",
    "102|\tvanilla|\t2800\n",
    "103|\tmint_chocolate|\t1700\n",
    "104|\tcaramel|\t2600\n",
    "105|\twhite_chocolate|\t3100\n",
    "106|\tpeach|\t2450\n",
    "107|\twatermelon|\t2150\n",
    "108|\tmango|\t2900\n",
    "109|\tstrawberry|\t3100\n",
    "110|\tmelon|\t3150\n",
    "111|\torange|\t2900\n",
    "112|\tpineapple|\t2900\n",
    "\n",
    "- 상반기 아이스크림 맛을 총주문량을 기준으로 내림차순 정렬하고 총주문량이 같은 경우 출하 번호를 기준으로 오름차순 정렬하면 chocolate, melon, white_chocolate, strawberry, mango, orange, pineapple, vanilla, caramel, peach, watermelon, mint_chocolate 순서대로 조회되어야 합니다. \n",
    "- 따라서 SQL문을 실행하면 다음과 같이 나와야 합니다.\n",
    "\n",
    "FLAVOR|\n",
    "-|\n",
    "chocolate\n",
    "melon\n",
    "white_chocolate\n",
    "strawberry\n",
    "mango\n",
    "orange\n",
    "pineapple\n",
    "vanilla\n",
    "caramel\n",
    "peach\n",
    "watermelon\n",
    "mint_chocolate"
   ]
  },
  {
   "cell_type": "markdown",
   "metadata": {},
   "source": [
    "## 풀이\n",
    "\n",
    "```SQL\n",
    "SELECT FLAVOR\n",
    "FROM FIRST_HALF\n",
    "ORDER BY TOTAL_ORDER DESC, SHIPMENT_ID ASC\n",
    "```"
   ]
  }
 ],
 "metadata": {
  "kernelspec": {
   "display_name": "Python 3",
   "language": "python",
   "name": "python3"
  },
  "language_info": {
   "codemirror_mode": {
    "name": "ipython",
    "version": 3
   },
   "file_extension": ".py",
   "mimetype": "text/x-python",
   "name": "python",
   "nbconvert_exporter": "python",
   "pygments_lexer": "ipython3",
   "version": "3.7.6"
  }
 },
 "nbformat": 4,
 "nbformat_minor": 4
}
