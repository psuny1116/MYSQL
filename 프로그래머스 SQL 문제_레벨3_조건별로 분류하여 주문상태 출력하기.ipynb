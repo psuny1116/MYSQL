{
 "cells": [
  {
   "cell_type": "markdown",
   "metadata": {},
   "source": [
    "# 조건별로 분류하여 주문상태 출력하기_레벨3\n",
    "\n",
    "## 유형: STRING, DATE\n",
    "\n",
    "### 문제 설명\n",
    "\n",
    "- 다음은 식품공장의 주문정보를 담은 FOOD_ORDER 테이블입니다. \n",
    "- FOOD_ORDER 테이블은 다음과 같으며 ORDER_ID, PRODUCT_ID, AMOUNT, PRODUCE_DATE, IN_DATE,OUT_DATE,FACTORY_ID, WAREHOUSE_ID는 각각 주문 ID, 제품 ID, 주문양, 생산일자, 입고일자, 출고일자, 공장 ID, 창고 ID를 의미합니다.\n",
    "\n",
    "Column name|\tType|\tNullable\n",
    "-|-|-\n",
    "ORDER_ID|\tVARCHAR(10)|\tFALSE\n",
    "PRODUCT_ID|\tVARCHAR(5)|\tFALSE\n",
    "AMOUNT|\tNUMBER|\tFALSE\n",
    "PRODUCE_DATE|\tDATE|\tTRUE\n",
    "IN_DATE|\tDATE|\tTRUE\n",
    "OUT_DATE|\tDATE|\tTRUE\n",
    "FACTORY_ID|\tVARCHAR(10)|\tFALSE\n",
    "WAREHOUSE_ID|\tVARCHAR(10)|\tFALSE\n",
    "\n",
    "### 문제\n",
    "\n",
    "- FOOD_ORDER 테이블에서 5월 1일을 기준으로 주문 ID, 제품 ID, 출고일자, 출고여부를 조회하는 SQL문을 작성해주세요. \n",
    "- 출고여부는 5월 1일까지 출고완료로 이 후 날짜는 출고 대기로 미정이면 출고미정으로 출력해주시고, 결과는 주문 ID를 기준으로 오름차순 정렬해주세요.\n",
    "\n",
    "### 예시\n",
    "\n",
    "- FOOD_ORDER 테이블이 다음과 같을 때\n",
    "\n",
    "ORDER_ID|\tPRODUCT_ID|\tAMOUNT|\tPRODUCE_DATE|\tIN_DATE|\tOUT_DATE|\tFACTORY_ID|\tWAREHOUSE_ID\n",
    "-|-|-|-|-|-|-|-\n",
    "OD00000051|\tP0002|\t4000|\t2022-04-01|\t2022-04-21|\t2022-04-21|\tFT19970003|\tWH0005\n",
    "OD00000052|\tP0003|\t2500|\t2022-04-10|\t2022-04-27|\t2022-04-27|\tFT19970003|\tWH0006\n",
    "OD00000053|\tP0005|\t6200|\t2022-04-15|\t2022-04-30|\t2022-05-01|\tFT19940003|\tWH0003\n",
    "OD00000054|\tP0006|\t1000|\t2022-04-21|\t2022-04-30|\tNULL|\tFT19940003|\tWH0009\n",
    "OD00000055|\tP0008|\t1500|\t2022-04-25|\t2022-05-11|\t2022-05-11|\tFT19980003|\tWH0009\n",
    "\n",
    "- SQL을 실행하면 다음과 같이 출력되어야 합니다.\n",
    "\n",
    "ORDER_ID|\tPRODUCT_ID|\tOUT_DATE|\t출고여부\n",
    "-|-|-|-\n",
    "OD00000051|\tP0002|\t2022-04-21|\t출고완료\n",
    "OD00000052|\tP0003|\t2022-04-27|\t출고완료\n",
    "OD00000053|\tP0005|\t2022-05-01|\t출고완료\n",
    "OD00000054|\tP0006|\t\t|출고미정\n",
    "OD00000055|\tP0008|\t2022-05-11|\t출고대기"
   ]
  },
  {
   "cell_type": "markdown",
   "metadata": {},
   "source": [
    "## 풀이\n",
    "\n",
    "```SQL\n",
    "SELECT ORDER_ID, PRODUCT_ID, DATE_FORMAT(OUT_DATE, '%Y-%m-%d') AS OUT_DATE, CASE WHEN OUT_DATE IS NULL THEN '출고미정'\n",
    "                                                                                WHEN OUT_DATE <= '2022-05-01' THEN '출고완료'\n",
    "                                                                                ELSE '출고대기' END AS '출고여부'\n",
    "FROM FOOD_ORDER\n",
    "ORDER BY ORDER_ID ASC\n",
    "```"
   ]
  }
 ],
 "metadata": {
  "kernelspec": {
   "display_name": "Python 3",
   "language": "python",
   "name": "python3"
  },
  "language_info": {
   "codemirror_mode": {
    "name": "ipython",
    "version": 3
   },
   "file_extension": ".py",
   "mimetype": "text/x-python",
   "name": "python",
   "nbconvert_exporter": "python",
   "pygments_lexer": "ipython3",
   "version": "3.7.6"
  }
 },
 "nbformat": 4,
 "nbformat_minor": 4
}
